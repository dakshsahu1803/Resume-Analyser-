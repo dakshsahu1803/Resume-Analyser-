{
  "cells": [
    {
      "cell_type": "markdown",
      "id": "PhSIuv_tXk6m",
      "metadata": {
        "id": "PhSIuv_tXk6m"
      },
      "source": [
        "Importing necessary libraries"
      ]
    },
    {
      "cell_type": "code",
      "execution_count": null,
      "id": "E2t-n7dbbBp3",
      "metadata": {
        "colab": {
          "base_uri": "https://localhost:8080/"
        },
        "id": "E2t-n7dbbBp3",
        "outputId": "e47af197-8b9a-4763-ff51-31a0111796f7"
      },
      "outputs": [
        {
          "output_type": "stream",
          "name": "stdout",
          "text": [
            "Collecting pip==23.0\n",
            "  Downloading pip-23.0-py3-none-any.whl.metadata (4.1 kB)\n",
            "Downloading pip-23.0-py3-none-any.whl (2.1 MB)\n",
            "\u001b[?25l   \u001b[90m━━━━━━━━━━━━━━━━━━━━━━━━━━━━━━━━━━━━━━━━\u001b[0m \u001b[32m0.0/2.1 MB\u001b[0m \u001b[31m?\u001b[0m eta \u001b[36m-:--:--\u001b[0m\r\u001b[2K   \u001b[91m━━━━━━━━━━━━━━━━━━━━━━━━━━━━━━━━━━━━━━━\u001b[0m\u001b[91m╸\u001b[0m \u001b[32m2.0/2.1 MB\u001b[0m \u001b[31m105.9 MB/s\u001b[0m eta \u001b[36m0:00:01\u001b[0m\r\u001b[2K   \u001b[90m━━━━━━━━━━━━━━━━━━━━━━━━━━━━━━━━━━━━━━━━\u001b[0m \u001b[32m2.1/2.1 MB\u001b[0m \u001b[31m55.4 MB/s\u001b[0m eta \u001b[36m0:00:00\u001b[0m\n",
            "\u001b[?25hInstalling collected packages: pip\n",
            "  Attempting uninstall: pip\n",
            "    Found existing installation: pip 24.1.2\n",
            "    Uninstalling pip-24.1.2:\n",
            "      Successfully uninstalled pip-24.1.2\n",
            "Successfully installed pip-23.0\n"
          ]
        }
      ],
      "source": [
        "!pip install --upgrade pip==23.0"
      ]
    },
    {
      "cell_type": "code",
      "execution_count": null,
      "id": "ER3amwlDYjGS",
      "metadata": {
        "colab": {
          "base_uri": "https://localhost:8080/"
        },
        "id": "ER3amwlDYjGS",
        "outputId": "0cfa1f2b-46dd-448b-fd64-1342ff04fa52"
      },
      "outputs": [
        {
          "name": "stdout",
          "output_type": "stream",
          "text": [
            "Requirement already satisfied: PyPDF2 in /usr/local/lib/python3.10/dist-packages (3.0.1)\n"
          ]
        }
      ],
      "source": [
        "!pip install PyPDF2"
      ]
    },
    {
      "cell_type": "code",
      "execution_count": null,
      "id": "vqrQTHJIY7I8",
      "metadata": {
        "colab": {
          "base_uri": "https://localhost:8080/"
        },
        "id": "vqrQTHJIY7I8",
        "outputId": "9a2de433-9e6c-4b19-f3d1-599886744ce2"
      },
      "outputs": [
        {
          "name": "stdout",
          "output_type": "stream",
          "text": [
            "Requirement already satisfied: textract in /usr/local/lib/python3.10/dist-packages (1.6.5)\n",
            "Requirement already satisfied: chardet==3.* in /usr/local/lib/python3.10/dist-packages (from textract) (3.0.4)\n",
            "Requirement already satisfied: extract-msg<=0.29.* in /usr/local/lib/python3.10/dist-packages (from textract) (0.28.7)\n",
            "Requirement already satisfied: xlrd~=1.2.0 in /usr/local/lib/python3.10/dist-packages (from textract) (1.2.0)\n",
            "Requirement already satisfied: pdfminer.six==20191110 in /usr/local/lib/python3.10/dist-packages (from textract) (20191110)\n",
            "Requirement already satisfied: argcomplete~=1.10.0 in /usr/local/lib/python3.10/dist-packages (from textract) (1.10.3)\n",
            "Requirement already satisfied: python-pptx~=0.6.18 in /usr/local/lib/python3.10/dist-packages (from textract) (0.6.23)\n",
            "Requirement already satisfied: six~=1.12.0 in /usr/local/lib/python3.10/dist-packages (from textract) (1.12.0)\n",
            "Requirement already satisfied: docx2txt~=0.8 in /usr/local/lib/python3.10/dist-packages (from textract) (0.8)\n",
            "Requirement already satisfied: SpeechRecognition~=3.8.1 in /usr/local/lib/python3.10/dist-packages (from textract) (3.8.1)\n",
            "Requirement already satisfied: beautifulsoup4~=4.8.0 in /usr/local/lib/python3.10/dist-packages (from textract) (4.8.2)\n",
            "Requirement already satisfied: sortedcontainers in /usr/local/lib/python3.10/dist-packages (from pdfminer.six==20191110->textract) (2.4.0)\n",
            "Requirement already satisfied: pycryptodome in /usr/local/lib/python3.10/dist-packages (from pdfminer.six==20191110->textract) (3.21.0)\n",
            "Requirement already satisfied: soupsieve>=1.2 in /usr/local/lib/python3.10/dist-packages (from beautifulsoup4~=4.8.0->textract) (2.6)\n",
            "Requirement already satisfied: compressed-rtf>=1.0.6 in /usr/local/lib/python3.10/dist-packages (from extract-msg<=0.29.*->textract) (1.0.6)\n",
            "Requirement already satisfied: olefile>=0.46 in /usr/local/lib/python3.10/dist-packages (from extract-msg<=0.29.*->textract) (0.47)\n",
            "Requirement already satisfied: ebcdic>=1.1.1 in /usr/local/lib/python3.10/dist-packages (from extract-msg<=0.29.*->textract) (1.1.1)\n",
            "Requirement already satisfied: imapclient==2.1.0 in /usr/local/lib/python3.10/dist-packages (from extract-msg<=0.29.*->textract) (2.1.0)\n",
            "Requirement already satisfied: tzlocal>=2.1 in /usr/local/lib/python3.10/dist-packages (from extract-msg<=0.29.*->textract) (5.2)\n",
            "Requirement already satisfied: lxml>=3.1.0 in /usr/local/lib/python3.10/dist-packages (from python-pptx~=0.6.18->textract) (5.3.0)\n",
            "Requirement already satisfied: Pillow>=3.3.2 in /usr/local/lib/python3.10/dist-packages (from python-pptx~=0.6.18->textract) (11.0.0)\n",
            "Requirement already satisfied: XlsxWriter>=0.5.7 in /usr/local/lib/python3.10/dist-packages (from python-pptx~=0.6.18->textract) (3.2.0)\n"
          ]
        }
      ],
      "source": [
        "!pip install textract"
      ]
    },
    {
      "cell_type": "code",
      "execution_count": null,
      "id": "Hj6vS-6JbPN1",
      "metadata": {
        "colab": {
          "base_uri": "https://localhost:8080/"
        },
        "id": "Hj6vS-6JbPN1",
        "outputId": "9809cd89-81ce-4fdd-969e-18fb648ecb06"
      },
      "outputs": [
        {
          "name": "stdout",
          "output_type": "stream",
          "text": [
            "Requirement already satisfied: docx2txt in /usr/local/lib/python3.10/dist-packages (0.8)\n"
          ]
        }
      ],
      "source": [
        "!pip install docx2txt"
      ]
    },
    {
      "cell_type": "code",
      "execution_count": null,
      "id": "forty-directive",
      "metadata": {
        "id": "forty-directive"
      },
      "outputs": [],
      "source": [
        "import PyPDF2\n",
        "import textract\n",
        "import docx2txt"
      ]
    },
    {
      "cell_type": "code",
      "execution_count": null,
      "id": "equivalent-carolina",
      "metadata": {
        "id": "equivalent-carolina"
      },
      "outputs": [],
      "source": [
        "import pandas as pd\n",
        "import matplotlib.pyplot as plt\n",
        "%matplotlib inline"
      ]
    },
    {
      "cell_type": "code",
      "execution_count": null,
      "id": "incorporated-firewall",
      "metadata": {
        "id": "incorporated-firewall"
      },
      "outputs": [],
      "source": [
        "from sklearn.metrics.pairwise import cosine_similarity\n",
        "from sklearn.feature_extraction.text import CountVectorizer"
      ]
    },
    {
      "cell_type": "markdown",
      "id": "stupid-topic",
      "metadata": {
        "id": "stupid-topic"
      },
      "source": [
        "#### Resumes we are going to use during our analysis"
      ]
    },
    {
      "cell_type": "code",
      "execution_count": null,
      "id": "leading-lottery",
      "metadata": {
        "id": "leading-lottery"
      },
      "outputs": [],
      "source": [
        "resume1=docx2txt.process('resume.docx')"
      ]
    },
    {
      "cell_type": "code",
      "execution_count": null,
      "id": "anticipated-chambers",
      "metadata": {
        "id": "anticipated-chambers"
      },
      "outputs": [],
      "source": [
        "resume2=docx2txt.process('resume.docx')"
      ]
    },
    {
      "cell_type": "markdown",
      "id": "detected-exhaust",
      "metadata": {
        "id": "detected-exhaust"
      },
      "source": [
        "#### Job Description can be entered by the user"
      ]
    },
    {
      "cell_type": "code",
      "execution_count": null,
      "id": "mk2jJng4gr8t",
      "metadata": {
        "colab": {
          "base_uri": "https://localhost:8080/"
        },
        "id": "mk2jJng4gr8t",
        "outputId": "bb1c9118-7a8d-425e-d56b-5ac28e15d9b1"
      },
      "outputs": [
        {
          "name": "stdout",
          "output_type": "stream",
          "text": [
            "RISHABH SURANA\n",
            "\n",
            "Bachelor of Technology in CSE (AI & ML)\n",
            "\n",
            "BENNETT UNIVERSITY, GREATER NOIDA, UTTAR PRADESH, INDIA\n",
            "\n",
            "\n",
            "\n",
            "+91 8700122543\n",
            "\n",
            "Rishabh Surana\n",
            "\n",
            "rspsurana@gmail.com\n",
            "\n",
            "E22CSEU1029@bennett.edu.in\n",
            "\n",
            "Delhi, India\n",
            "\n",
            "LeetCode\n",
            "\n",
            "PROFILE\n",
            "\n",
            "Driven by a passion for innovation, I’m eager to apply my skills across AI/ML, Web Development, Backend Engineering, and Software Development. Committed to mastering these technologies, I aim to contribute to impactful projects and deliver real-world solutions.\n",
            "\n",
            "PROFESSIONAL EXPERIENCE\n",
            "\n",
            "\tVASITUM TECH ( MAVEN WORKFORCE)\t(June 2024 – July 2024)\n",
            "\n",
            "Hands-on experience working on real-world projects. Contributed to both live and upcoming features.\n",
            "\n",
            "Enhanced technical skills and understanding of professional workflows. Proficient in: HTML, CSS, JavaScript, React, and REST APIs.\n",
            "\n",
            "You can view my work at: https://vasitum.com/savings\n",
            "\n",
            "\n",
            "\n",
            "PROJECTS\n",
            "\n",
            "\tAPNICAR\t(January 2024 – April 2024)\n",
            "\n",
            "Revolutionary platform that simplifies car purchasing with personalized recommendations based on user preferences and budget.\n",
            "\n",
            "Predicts the best car for you and estimates future expenses. Provides access to nearby dealerships through an intuitive app. Technologies used: Python, MS Excel, HTML, CSS, JavaScript.\n",
            "\n",
            "\tTRAVELPASS. COM\t(January 2024 – April 2024)\n",
            "\n",
            "The Local Train Ticket System (TRAVELPASS.COM)\n",
            "\n",
            "Designed to provide a comprehensive and efficient solution to the challenges faced by urban commuters by enabling online ticket purchases and finding the shortest routes.\n",
            "\n",
            "SKILLS\n",
            "\n",
            "\n",
            "\n",
            "TECHNOLOGICAL SKILLS:\n",
            "\n",
            "SOFT SKILLS:\n",
            "\n",
            "Python\n",
            "\n",
            "Data Structures & Algorithms (C++) MySQL (DBMS)\n",
            "\n",
            "Machine Learning HTML CSS\n",
            "\n",
            "JavaScript + React Rest API\n",
            "\n",
            "Communication Analytical Skills Presentation Skills Project Management Languages :\n",
            "\n",
            "English- Full Professional Proficiency Hindi - Full Professional Proficiency\n",
            "\n",
            "\n",
            "\n",
            "CERTIFICATIONS\n",
            "\n",
            "Machine Learning (Coursera) Algorithmic Toolbox (Coursera)\n",
            "\n",
            "Introduction to Modern Database Systems (Saylor Academy)\n",
            "\n",
            "Introduction to Computers and OS and Security (Coursera)\n",
            "\n",
            "The Bits and Bytes of Computer Network (Coursera) Introduction to Agile Testing (Infosys Springboard) HTML, CSS, JavaScript, React (Scrimba)\n",
            "\n",
            "EDUCATION\n",
            "\n",
            "St. Lawrence Convent, Geeta Colony, Delhi, INDIA\n",
            "\n",
            "Higher Secondary Education (2013-2021)\n",
            "\n",
            "10th Grade : 86% | 12th Grade : 86.6%\n",
            "\n",
            "Bennett University, Greater Noida, UP, INDIA\n",
            "\n",
            "B.Tech CSE (AI & ML) (2022-2026)\n",
            "\n",
            "CGPA : 8.4\n"
          ]
        }
      ],
      "source": [
        "print(resume1)"
      ]
    },
    {
      "cell_type": "code",
      "execution_count": null,
      "id": "golden-counter",
      "metadata": {
        "id": "golden-counter"
      },
      "outputs": [],
      "source": [
        "#Prompt for the Job description.\n",
        "jd = docx2txt.process('job_descriptions.docx')"
      ]
    },
    {
      "cell_type": "markdown",
      "id": "surface-dancing",
      "metadata": {
        "id": "surface-dancing"
      },
      "source": [
        "#### Function to get similarity score between resume and JD with the help of cosine similarity"
      ]
    },
    {
      "cell_type": "code",
      "execution_count": null,
      "id": "BfXE8WxQX8hY",
      "metadata": {
        "colab": {
          "base_uri": "https://localhost:8080/"
        },
        "id": "BfXE8WxQX8hY",
        "outputId": "7c4291c0-9f7a-4994-a155-c381c61cae83"
      },
      "outputs": [
        {
          "name": "stdout",
          "output_type": "stream",
          "text": [
            "Job Description :  GCCC Policy Add Template\n",
            "\n",
            "\n",
            "\n",
            "Related Form: Click here to enter text.\n",
            "\n",
            "\n",
            "\n",
            "Category: Personnel\n",
            "\n",
            "Division: HUMAN RESOURCES Department: Click here to enter text. Policy Title: JOB DESCRIPTIONS\n",
            "\n",
            "Policy Statement: A job description is a formal document describing the nature, scope, physical requirements, and responsibilities of a specific job within the organization. Job descriptions are used for purposes of training and development, annual performance appraisals, promotions, recruiting, and hiring. Job descriptions are prepared by Human Resources with input from the supervisor and the Dean.\n",
            "\n",
            "Human Resources is responsible for:\n",
            "\n",
            "\t\tAdministering the overall job description program;\n",
            "\n",
            "\t\tMonitoring job descriptions for proper format;\n",
            "\n",
            "\t\tMaintaining a central file of all current job descriptions; and\n",
            "\n",
            "\t\tEnsuring that all full time positions have a job description.\n",
            "\n",
            "\n",
            "\n",
            "Supervisors and deans are responsible for reviewing and approving job descriptions for their departments. All full time positions within GCCC must be evaluated and assigned a grade and classification. All new positions must be evaluated and approved by the President before the position can be posted. When the duties of a position change significantly, it may be necessary to reevaluate the job's description and/or classification.\n",
            "\n",
            "\n",
            "\n",
            "\n",
            "\n",
            "Procedures: Job descriptions are developed and maintained in the HR Office. Job descriptions should be reviewed annually by the employee and supervisor. Minor changes should be reported to the HR Office. If a position needs to be significantly altered to meet the needs of the department or the college, the supervisor must work in conjunction with the appropriate administrator to document the changes needed and the reasons for the change. Any significant change to a job description could affect the federal classification of a position. An increase or change of duties may affect the compensation for that position which would also affect the college budget. Therefore, a supervisor does not have the authority to significantly change a job description or to alter the duties or responsibilities of an employee without approval of the President. Major changes to a job description must be done in consultation with the HR Director. The President will determine if the request should be approved and the timeline for implementation.\n",
            "\n",
            "Contacts: Director of Human Resources\n",
            "\n",
            "Approved Date: 8/1/2013\n",
            "\n",
            "Policy History: Click here to enter text.\n",
            "\n",
            "Keywords: job description, classification, position, duties\n"
          ]
        }
      ],
      "source": [
        "print(\"Job Description : \",jd)"
      ]
    },
    {
      "cell_type": "code",
      "execution_count": null,
      "id": "attractive-screening",
      "metadata": {
        "id": "attractive-screening"
      },
      "outputs": [],
      "source": [
        "def get_similarity(resume, jd):\n",
        "    res = ''.join([i for i in resume if not i.isdigit()])\n",
        "    res_jd=[res, jd]\n",
        "    cntv = CountVectorizer()\n",
        "    count_matrix = cntv.fit_transform(res_jd)\n",
        "    percentage = round((cosine_similarity(count_matrix)[0][1] * 100),2)\n",
        "    return percentage"
      ]
    },
    {
      "cell_type": "markdown",
      "id": "parallel-voltage",
      "metadata": {
        "id": "parallel-voltage"
      },
      "source": [
        "#### Similarity score of first applicant"
      ]
    },
    {
      "cell_type": "code",
      "execution_count": null,
      "id": "rational-bahamas",
      "metadata": {
        "colab": {
          "base_uri": "https://localhost:8080/"
        },
        "id": "rational-bahamas",
        "outputId": "02b13299-0fbb-417d-b96f-067fd8cefe3d"
      },
      "outputs": [
        {
          "name": "stdout",
          "output_type": "stream",
          "text": [
            "\n",
            "Similarity Scores: between resume 1 and Job Description is  38.51\n"
          ]
        }
      ],
      "source": [
        "per1=get_similarity(resume1,jd)\n",
        "print(\"\\nSimilarity Scores: between resume 1 and Job Description is \",per1)"
      ]
    },
    {
      "cell_type": "markdown",
      "id": "diverse-cycling",
      "metadata": {
        "id": "diverse-cycling"
      },
      "source": [
        "#### Similarity score of second applicant"
      ]
    },
    {
      "cell_type": "code",
      "execution_count": null,
      "id": "invisible-warren",
      "metadata": {
        "colab": {
          "base_uri": "https://localhost:8080/"
        },
        "id": "invisible-warren",
        "outputId": "2ed59b6d-07ea-443c-f7f5-975902ca6638"
      },
      "outputs": [
        {
          "name": "stdout",
          "output_type": "stream",
          "text": [
            "\n",
            "Similarity Scores: between resume 1 and Job Description is  38.51\n"
          ]
        }
      ],
      "source": [
        "per2=get_similarity(resume2,jd)\n",
        "print(\"\\nSimilarity Scores: between resume 1 and Job Description is \",per1)"
      ]
    },
    {
      "cell_type": "markdown",
      "id": "behavioral-article",
      "metadata": {
        "id": "behavioral-article"
      },
      "source": [
        "#### Used Jaccard distance as a dissimmilarity measure to see how different the resume and JD are"
      ]
    },
    {
      "cell_type": "code",
      "execution_count": null,
      "id": "smoking-filename",
      "metadata": {
        "colab": {
          "base_uri": "https://localhost:8080/"
        },
        "id": "smoking-filename",
        "outputId": "344003dc-7374-4869-d0d0-147e7c1ac687"
      },
      "outputs": [
        {
          "name": "stdout",
          "output_type": "stream",
          "text": [
            "\n",
            "  Jaccard  :   0.7125\n"
          ]
        }
      ],
      "source": [
        "def jaccard_distance(resume1,jd):\n",
        "    intersection=len(set.intersection(*[set(resume1),set(jd)]))\n",
        "    union=len(set.union(*[set(resume1),set(jd)]))\n",
        "    return intersection/float(union)\n",
        "b=jaccard_distance(resume1,jd)\n",
        "\n",
        "print('\\n  Jaccard  :  ', b)"
      ]
    },
    {
      "cell_type": "markdown",
      "id": "stuffed-nursery",
      "metadata": {
        "id": "stuffed-nursery"
      },
      "source": [
        "#### Function to do SpellCheker in the resume"
      ]
    },
    {
      "cell_type": "code",
      "execution_count": null,
      "id": "kPXL7qACc-C9",
      "metadata": {
        "colab": {
          "base_uri": "https://localhost:8080/"
        },
        "id": "kPXL7qACc-C9",
        "outputId": "9243f913-b835-49d7-a57a-ceb630524e2a"
      },
      "outputs": [
        {
          "name": "stdout",
          "output_type": "stream",
          "text": [
            "\u001b[33mWARNING: Skipping pyspellchecker as it is not installed.\u001b[0m\u001b[33m\n",
            "\u001b[0mCollecting pyspellchecker\n",
            "  Downloading pyspellchecker-0.8.1-py3-none-any.whl (6.8 MB)\n",
            "\u001b[2K     \u001b[90m━━━━━━━━━━━━━━━━━━━━━━━━━━━━━━━━━━━━━━━━\u001b[0m \u001b[32m6.8/6.8 MB\u001b[0m \u001b[31m60.7 MB/s\u001b[0m eta \u001b[36m0:00:00\u001b[0m\n",
            "\u001b[?25hInstalling collected packages: pyspellchecker\n",
            "Successfully installed pyspellchecker-0.8.1\n"
          ]
        }
      ],
      "source": [
        "!pip uninstall pyspellchecker\n",
        "!pip install pyspellchecker"
      ]
    },
    {
      "cell_type": "code",
      "execution_count": null,
      "id": "final-dubai",
      "metadata": {
        "id": "final-dubai"
      },
      "outputs": [],
      "source": [
        "from spellchecker import SpellChecker\n",
        "spell = SpellChecker()"
      ]
    },
    {
      "cell_type": "code",
      "execution_count": null,
      "id": "departmental-floating",
      "metadata": {
        "id": "departmental-floating"
      },
      "outputs": [],
      "source": [
        "def spell_check(list):\n",
        "    spell_mistake= False\n",
        "    for i in list:\n",
        "        if i.isalpha()==True:\n",
        "            if i[0].isupper():\n",
        "                exit\n",
        "            else:\n",
        "                i=i.lower()\n",
        "                word=spell.correction(i)\n",
        "                if i!= word:\n",
        "                    print('wrong spelling: ',i,'\\nSuggestions are as follow :',word)\n",
        "                    spell_mistake= True\n",
        "    if spell_mistake==False:\n",
        "        print('No spelling mistakes, good to go..')"
      ]
    },
    {
      "cell_type": "code",
      "execution_count": null,
      "id": "straight-thinking",
      "metadata": {
        "id": "straight-thinking"
      },
      "outputs": [],
      "source": [
        "word = resume1.split()"
      ]
    },
    {
      "cell_type": "code",
      "execution_count": null,
      "id": "descending-testing",
      "metadata": {
        "colab": {
          "base_uri": "https://localhost:8080/"
        },
        "id": "descending-testing",
        "outputId": "3e84a82a-d2c7-45e2-a355-0c7ca49e2a44",
        "scrolled": true
      },
      "outputs": [
        {
          "name": "stdout",
          "output_type": "stream",
          "text": [
            "wrong spelling:  impactful \n",
            "Suggestions are as follow : None\n"
          ]
        }
      ],
      "source": [
        "spell_check(word)"
      ]
    },
    {
      "cell_type": "markdown",
      "id": "appropriate-highlight",
      "metadata": {
        "id": "appropriate-highlight"
      },
      "source": [
        "### Part - 2 Summarizing Resume and Finding Important Keywords"
      ]
    },
    {
      "cell_type": "markdown",
      "id": "complex-maple",
      "metadata": {
        "id": "complex-maple"
      },
      "source": [
        "#### Libraries required for summarizing the resume"
      ]
    },
    {
      "cell_type": "code",
      "execution_count": null,
      "id": "f9WI8xt5dzbp",
      "metadata": {
        "colab": {
          "base_uri": "https://localhost:8080/"
        },
        "id": "f9WI8xt5dzbp",
        "outputId": "befabce5-d772-4aa4-fd19-992a9657f661"
      },
      "outputs": [
        {
          "name": "stdout",
          "output_type": "stream",
          "text": [
            "Collecting sumy\n",
            "  Downloading sumy-0.11.0-py2.py3-none-any.whl (97 kB)\n",
            "\u001b[?25l     \u001b[90m━━━━━━━━━━━━━━━━━━━━━━━━━━━━━━━━━━━━━━━━\u001b[0m \u001b[32m0.0/97.3 kB\u001b[0m \u001b[31m?\u001b[0m eta \u001b[36m-:--:--\u001b[0m\r",
            "\u001b[2K     \u001b[90m━━━━━━━━━━━━━━━━━━━━━━━━━━━━━━━━━━━━━━━━\u001b[0m \u001b[32m97.3/97.3 kB\u001b[0m \u001b[31m3.8 MB/s\u001b[0m eta \u001b[36m0:00:00\u001b[0m\n",
            "\u001b[?25hCollecting pycountry>=18.2.23\n",
            "  Downloading pycountry-24.6.1-py3-none-any.whl (6.3 MB)\n",
            "\u001b[?25l     \u001b[90m━━━━━━━━━━━━━━━━━━━━━━━━━━━━━━━━━━━━━━━━\u001b[0m \u001b[32m0.0/6.3 MB\u001b[0m \u001b[31m?\u001b[0m eta \u001b[36m-:--:--\u001b[0m\r",
            "\u001b[2K     \u001b[91m━━━━━━━━━━━━━━━━━━━━━━━━━━━\u001b[0m\u001b[91m╸\u001b[0m\u001b[90m━━━━━━━━━━━━\u001b[0m \u001b[32m4.4/6.3 MB\u001b[0m \u001b[31m132.5 MB/s\u001b[0m eta \u001b[36m0:00:01\u001b[0m\r",
            "\u001b[2K     \u001b[91m━━━━━━━━━━━━━━━━━━━━━━━━━━━━━━━━━━━━━━━\u001b[0m\u001b[91m╸\u001b[0m \u001b[32m6.3/6.3 MB\u001b[0m \u001b[31m140.0 MB/s\u001b[0m eta \u001b[36m0:00:01\u001b[0m\r",
            "\u001b[2K     \u001b[90m━━━━━━━━━━━━━━━━━━━━━━━━━━━━━━━━━━━━━━━━\u001b[0m \u001b[32m6.3/6.3 MB\u001b[0m \u001b[31m83.5 MB/s\u001b[0m eta \u001b[36m0:00:00\u001b[0m\n",
            "\u001b[?25hRequirement already satisfied: requests>=2.7.0 in /usr/local/lib/python3.10/dist-packages (from sumy) (2.32.3)\n",
            "Collecting breadability>=0.1.20\n",
            "  Downloading breadability-0.1.20.tar.gz (32 kB)\n",
            "  Preparing metadata (setup.py) ... \u001b[?25l\u001b[?25hdone\n",
            "Collecting docopt<0.7,>=0.6.1\n",
            "  Downloading docopt-0.6.2.tar.gz (25 kB)\n",
            "  Preparing metadata (setup.py) ... \u001b[?25l\u001b[?25hdone\n",
            "Requirement already satisfied: nltk>=3.0.2 in /usr/local/lib/python3.10/dist-packages (from sumy) (3.9.1)\n",
            "Requirement already satisfied: chardet in /usr/local/lib/python3.10/dist-packages (from breadability>=0.1.20->sumy) (3.0.4)\n",
            "Requirement already satisfied: lxml>=2.0 in /usr/local/lib/python3.10/dist-packages (from breadability>=0.1.20->sumy) (5.3.0)\n",
            "Requirement already satisfied: tqdm in /usr/local/lib/python3.10/dist-packages (from nltk>=3.0.2->sumy) (4.66.6)\n",
            "Requirement already satisfied: joblib in /usr/local/lib/python3.10/dist-packages (from nltk>=3.0.2->sumy) (1.4.2)\n",
            "Requirement already satisfied: click in /usr/local/lib/python3.10/dist-packages (from nltk>=3.0.2->sumy) (8.1.7)\n",
            "Requirement already satisfied: regex>=2021.8.3 in /usr/local/lib/python3.10/dist-packages (from nltk>=3.0.2->sumy) (2024.9.11)\n",
            "Requirement already satisfied: urllib3<3,>=1.21.1 in /usr/local/lib/python3.10/dist-packages (from requests>=2.7.0->sumy) (2.2.3)\n",
            "Requirement already satisfied: idna<4,>=2.5 in /usr/local/lib/python3.10/dist-packages (from requests>=2.7.0->sumy) (3.10)\n",
            "Requirement already satisfied: certifi>=2017.4.17 in /usr/local/lib/python3.10/dist-packages (from requests>=2.7.0->sumy) (2024.8.30)\n",
            "Requirement already satisfied: charset-normalizer<4,>=2 in /usr/local/lib/python3.10/dist-packages (from requests>=2.7.0->sumy) (3.4.0)\n",
            "Building wheels for collected packages: breadability, docopt\n",
            "  Building wheel for breadability (setup.py) ... \u001b[?25l\u001b[?25hdone\n",
            "  Created wheel for breadability: filename=breadability-0.1.20-py2.py3-none-any.whl size=21692 sha256=45b31228f181d4e60bc96c9b5f70fd874c89ac03a9229bca91675a58de6a964c\n",
            "  Stored in directory: /root/.cache/pip/wheels/64/22/90/b84fcc30e16598db20a0d41340616dbf9b1e82bbcc627b0b33\n",
            "  Building wheel for docopt (setup.py) ... \u001b[?25l\u001b[?25hdone\n",
            "  Created wheel for docopt: filename=docopt-0.6.2-py2.py3-none-any.whl size=13706 sha256=b25115fb19e1c1aa4f00c729c16588575ea466ac9c8b95a3015aca6deba6773c\n",
            "  Stored in directory: /root/.cache/pip/wheels/fc/ab/d4/5da2067ac95b36618c629a5f93f809425700506f72c9732fac\n",
            "Successfully built breadability docopt\n",
            "Installing collected packages: docopt, pycountry, breadability, sumy\n",
            "Successfully installed breadability-0.1.20 docopt-0.6.2 pycountry-24.6.1 sumy-0.11.0\n"
          ]
        }
      ],
      "source": [
        "!pip install sumy"
      ]
    },
    {
      "cell_type": "code",
      "execution_count": null,
      "id": "8L5spedWgVGV",
      "metadata": {
        "colab": {
          "base_uri": "https://localhost:8080/"
        },
        "id": "8L5spedWgVGV",
        "outputId": "73b08fbe-d4c1-4ffa-ce51-afbe29ae7145"
      },
      "outputs": [
        {
          "name": "stdout",
          "output_type": "stream",
          "text": [
            "Requirement already satisfied: nltk in /usr/local/lib/python3.10/dist-packages (3.9.1)\n",
            "Requirement already satisfied: joblib in /usr/local/lib/python3.10/dist-packages (from nltk) (1.4.2)\n",
            "Requirement already satisfied: tqdm in /usr/local/lib/python3.10/dist-packages (from nltk) (4.66.6)\n",
            "Requirement already satisfied: click in /usr/local/lib/python3.10/dist-packages (from nltk) (8.1.7)\n",
            "Requirement already satisfied: regex>=2021.8.3 in /usr/local/lib/python3.10/dist-packages (from nltk) (2024.9.11)\n"
          ]
        }
      ],
      "source": [
        "!pip install nltk"
      ]
    },
    {
      "cell_type": "code",
      "execution_count": null,
      "id": "disciplinary-expense",
      "metadata": {
        "colab": {
          "base_uri": "https://localhost:8080/"
        },
        "id": "disciplinary-expense",
        "outputId": "ab77b715-73f0-4ff6-de9f-0fa460fa99cd"
      },
      "outputs": [
        {
          "name": "stderr",
          "output_type": "stream",
          "text": [
            "[nltk_data] Downloading package punkt_tab to /root/nltk_data...\n",
            "[nltk_data]   Unzipping tokenizers/punkt_tab.zip.\n"
          ]
        },
        {
          "data": {
            "text/plain": [
              "True"
            ]
          },
          "execution_count": 46,
          "metadata": {},
          "output_type": "execute_result"
        }
      ],
      "source": [
        "import nltk\n",
        "from sumy.parsers.plaintext import PlaintextParser\n",
        "from sumy.nlp.tokenizers import Tokenizer\n",
        "from sumy.summarizers.lsa import LsaSummarizer\n",
        "nltk.download('punkt_tab')"
      ]
    },
    {
      "cell_type": "markdown",
      "id": "pacific-aquatic",
      "metadata": {
        "id": "pacific-aquatic"
      },
      "source": [
        "#### Summarizing resume"
      ]
    },
    {
      "cell_type": "code",
      "execution_count": null,
      "id": "passive-acting",
      "metadata": {
        "colab": {
          "base_uri": "https://localhost:8080/"
        },
        "id": "passive-acting",
        "outputId": "69fa6eef-3231-4424-d15a-ac9a3016720c"
      },
      "outputs": [
        {
          "name": "stdout",
          "output_type": "stream",
          "text": [
            "Summary:\n",
            "Bachelor of Technology in CSE (AI & ML)\n",
            "+91 8700122543\n",
            "Rishabh Surana\n",
            "rspsurana@gmail.com\n",
            "E22CSEU1029@bennett.edu.in\n",
            "Delhi, India\n",
            "LeetCode\n",
            "Driven by a passion for innovation, I’m eager to apply my skills across AI/ML, Web Development, Backend Engineering, and Software Development.\n",
            "Committed to mastering these technologies, I aim to contribute to impactful projects and deliver real-world solutions.\n",
            "VASITUM TECH ( MAVEN WORKFORCE)\t(June 2024 – July 2024)\n",
            "Hands-on experience working on real-world projects.\n",
            "Contributed to both live and upcoming features.\n",
            "Enhanced technical skills and understanding of professional workflows.\n",
            "Proficient in: HTML, CSS, JavaScript, React, and REST APIs.\n",
            "You can view my work at: https://vasitum.com/savings\n",
            "APNICAR\t(January 2024 – April 2024)\n",
            "Revolutionary platform that simplifies car purchasing with personalized recommendations based on user preferences and budget.\n",
            "Predicts the best car for you and estimates future expenses.\n",
            "Provides access to nearby dealerships through an intuitive app.\n",
            "Technologies used: Python, MS Excel, HTML, CSS, JavaScript.\n",
            "TRAVELPASS.\n",
            "COM\t(January 2024 – April 2024)\n",
            "The Local Train Ticket System (TRAVELPASS.COM)\n",
            "Designed to provide a comprehensive and efficient solution to the challenges faced by urban commuters by enabling online ticket purchases and finding the shortest routes.\n",
            "Python\n",
            "Data Structures & Algorithms (C++) MySQL (DBMS)\n",
            "Machine Learning HTML CSS\n",
            "JavaScript + React Rest API\n",
            "Communication Analytical Skills Presentation Skills Project Management Languages :\n",
            "English- Full Professional Proficiency Hindi - Full Professional Proficiency\n",
            "Machine Learning (Coursera) Algorithmic Toolbox (Coursera)\n",
            "Introduction to Modern Database Systems (Saylor Academy)\n",
            "Introduction to Computers and OS and Security (Coursera)\n",
            "The Bits and Bytes of Computer Network (Coursera) Introduction to Agile Testing (Infosys Springboard) HTML, CSS, JavaScript, React (Scrimba)\n",
            "St. Lawrence Convent, Geeta Colony, Delhi, INDIA\n",
            "Higher Secondary Education (2013-2021)\n",
            "10th Grade : 86% | 12th Grade : 86.6%\n",
            "Bennett University, Greater Noida, UP, INDIA\n",
            "B.Tech CSE (AI & ML) (2022-2026)\n"
          ]
        }
      ],
      "source": [
        "text_resume = str(resume1)\n",
        "parser = PlaintextParser.from_string(text_resume, Tokenizer(\"english\"))\n",
        "summarizer = LsaSummarizer()\n",
        "summary = summarizer(parser.document, 100)\n",
        "print(\"Summary:\")\n",
        "for sentence in summary:\n",
        "    print(sentence)"
      ]
    },
    {
      "cell_type": "markdown",
      "id": "later-exclusive",
      "metadata": {
        "id": "later-exclusive"
      },
      "source": [
        "#### Performed feature extraction with the help of count vectorizer"
      ]
    },
    {
      "cell_type": "code",
      "execution_count": null,
      "id": "renewable-flood",
      "metadata": {
        "id": "renewable-flood"
      },
      "outputs": [],
      "source": [
        "text_list = [text_resume, jd]\n",
        "from sklearn.feature_extraction.text import CountVectorizer\n",
        "cv = CountVectorizer()\n",
        "count_matrix = cv.fit_transform(text_list)"
      ]
    },
    {
      "cell_type": "code",
      "execution_count": null,
      "id": "beneficial-treasury",
      "metadata": {
        "colab": {
          "base_uri": "https://localhost:8080/"
        },
        "id": "beneficial-treasury",
        "outputId": "e667be03-5e50-4613-e13d-fbd9c00200c0"
      },
      "outputs": [
        {
          "data": {
            "text/plain": [
              "<2x345 sparse matrix of type '<class 'numpy.int64'>'\n",
              "\twith 363 stored elements in Compressed Sparse Row format>"
            ]
          },
          "execution_count": 53,
          "metadata": {},
          "output_type": "execute_result"
        }
      ],
      "source": [
        "count_matrix"
      ]
    },
    {
      "cell_type": "code",
      "execution_count": null,
      "id": "medieval-cleaners",
      "metadata": {
        "colab": {
          "base_uri": "https://localhost:8080/"
        },
        "id": "medieval-cleaners",
        "outputId": "bc164062-fbed-4960-94db-eb9087df023f"
      },
      "outputs": [
        {
          "name": "stdout",
          "output_type": "stream",
          "text": [
            "[[1.         0.37569428]\n",
            " [0.37569428 1.        ]]\n"
          ]
        }
      ],
      "source": [
        "from sklearn.metrics.pairwise import cosine_similarity\n",
        "matchPercentage = cosine_similarity(count_matrix)\n",
        "print(matchPercentage)"
      ]
    },
    {
      "cell_type": "code",
      "execution_count": null,
      "id": "backed-memphis",
      "metadata": {
        "colab": {
          "base_uri": "https://localhost:8080/"
        },
        "id": "backed-memphis",
        "outputId": "0b1a1f8b-64fc-4220-c420-44bed2e728c3"
      },
      "outputs": [
        {
          "name": "stdout",
          "output_type": "stream",
          "text": [
            "Your resume matches about 37.57% of the job description.\n"
          ]
        }
      ],
      "source": [
        "# get the match percentage\n",
        "matchPercentage = cosine_similarity(count_matrix)[0][1] * 100\n",
        "matchPercentage = round(matchPercentage, 2)\n",
        "print(\"Your resume matches about \"+ str(matchPercentage)+ \"% of the job description.\")"
      ]
    },
    {
      "cell_type": "markdown",
      "id": "binary-jewelry",
      "metadata": {
        "id": "binary-jewelry"
      },
      "source": [
        "#### Extracted important keywords from JD and resume"
      ]
    },
    {
      "cell_type": "code",
      "execution_count": null,
      "id": "Qc-XhKmrhgsi",
      "metadata": {
        "colab": {
          "base_uri": "https://localhost:8080/"
        },
        "id": "Qc-XhKmrhgsi",
        "outputId": "0c9ed2d3-4f7c-4d0b-c0a0-5f2bed031f61"
      },
      "outputs": [
        {
          "name": "stdout",
          "output_type": "stream",
          "text": [
            "Collecting rake-nltk\n",
            "  Downloading rake_nltk-1.0.6-py3-none-any.whl (9.1 kB)\n",
            "Requirement already satisfied: nltk<4.0.0,>=3.6.2 in /usr/local/lib/python3.10/dist-packages (from rake-nltk) (3.9.1)\n",
            "Requirement already satisfied: regex>=2021.8.3 in /usr/local/lib/python3.10/dist-packages (from nltk<4.0.0,>=3.6.2->rake-nltk) (2024.9.11)\n",
            "Requirement already satisfied: click in /usr/local/lib/python3.10/dist-packages (from nltk<4.0.0,>=3.6.2->rake-nltk) (8.1.7)\n",
            "Requirement already satisfied: tqdm in /usr/local/lib/python3.10/dist-packages (from nltk<4.0.0,>=3.6.2->rake-nltk) (4.66.6)\n",
            "Requirement already satisfied: joblib in /usr/local/lib/python3.10/dist-packages (from nltk<4.0.0,>=3.6.2->rake-nltk) (1.4.2)\n",
            "Installing collected packages: rake-nltk\n",
            "Successfully installed rake-nltk-1.0.6\n"
          ]
        }
      ],
      "source": [
        "!pip install rake-nltk"
      ]
    },
    {
      "cell_type": "code",
      "execution_count": null,
      "id": "cgMPrZsqh09e",
      "metadata": {
        "colab": {
          "base_uri": "https://localhost:8080/"
        },
        "id": "cgMPrZsqh09e",
        "outputId": "67f6b332-75c3-4903-f2c5-eb4ca81ac256"
      },
      "outputs": [
        {
          "name": "stderr",
          "output_type": "stream",
          "text": [
            "[nltk_data] Downloading package stopwords to /root/nltk_data...\n",
            "[nltk_data]   Unzipping corpora/stopwords.zip.\n"
          ]
        },
        {
          "data": {
            "text/plain": [
              "True"
            ]
          },
          "execution_count": 59,
          "metadata": {},
          "output_type": "execute_result"
        }
      ],
      "source": [
        "nltk.download('stopwords')"
      ]
    },
    {
      "cell_type": "code",
      "execution_count": null,
      "id": "8iKX_T6ehl-i",
      "metadata": {
        "colab": {
          "base_uri": "https://localhost:8080/"
        },
        "id": "8iKX_T6ehl-i",
        "outputId": "7a023187-1b4d-42d0-dc2f-ad24eb7355b3"
      },
      "outputs": [
        {
          "name": "stdout",
          "output_type": "stream",
          "text": [
            "['gccc policy add template related form', 'full time positions within gccc must', 'overall job description program', 'full time positions', 'job descriptions policy statement', 'job description could affect', 'human resources approved date', 'new positions must', 'specific job within', '2013 policy history', 'would also affect', 'annual performance appraisals', 'job description must', 'supervisor must work', 'monitoring job descriptions', 'current job descriptions', 'approving job descriptions', 'formal document describing', 'employee without approval', 'human resources department', 'duties may affect', 'policy title', 'position change significantly', 'human resources', 'human resources', 'job descriptions', 'job descriptions', 'job descriptions', 'job descriptions', 'job description', 'job description', 'job description', 'job description', 'significantly altered', 'significantly change', 'reviewed annually', 'proper format', 'physical requirements', 'personnel division', 'minor changes', 'major changes', 'hr office', 'hr office', 'enter text', 'enter text', 'enter text', 'changes needed', 'central file', 'appropriate administrator', 'significant change', 'hr director', 'college budget', 'federal classification', 'position needs', 'job', 'description', 'may', 'employee', 'document', 'department', 'approved', 'approved', 'change', 'change', 'supervisor', 'supervisor', 'supervisor', 'position', 'position', 'position', 'position', 'needs', 'duties', 'duties', 'duties', 'director', 'college', 'classification', 'classification', 'classification', 'used', 'training', 'timeline', 'therefore', 'supervisors', 'scope', 'reviewing', 'responsible', 'responsible', 'responsibilities', 'responsibilities', 'request', 'reported', 'reevaluate', 'recruiting', 'reasons', 'purposes', 'promotions', 'procedures', 'president', 'president', 'president', 'prepared', 'posted', 'organization', 'necessary', 'nature', 'meet', 'maintaining', 'maintained', 'keywords', 'input', 'increase', 'implementation', 'hiring', 'grade', 'evaluated', 'evaluated', 'ensuring', 'done', 'development', 'developed', 'determine', 'departments', 'deans', 'dean', 'contacts', 'consultation', 'conjunction', 'compensation', 'click', 'click', 'click', 'category', 'authority', 'assigned', 'alter', 'administering', '8', '1']\n"
          ]
        }
      ],
      "source": [
        "from rake_nltk import Rake\n",
        "rake = Rake()\n",
        "rake.extract_keywords_from_text(jd)\n",
        "keywords = rake.get_ranked_phrases()"
      ]
    },
    {
      "cell_type": "code",
      "execution_count": null,
      "id": "proprietary-deadline",
      "metadata": {
        "colab": {
          "base_uri": "https://localhost:8080/",
          "height": 105
        },
        "id": "proprietary-deadline",
        "outputId": "24d2e37e-7e13-4030-b64c-759cbe0b87d4"
      },
      "outputs": [
        {
          "data": {
            "application/vnd.google.colaboratory.intrinsic+json": {
              "type": "string"
            },
            "text/plain": [
              "'gccc policy add template related form full time positions within gccc must overall job description program full time positions job descriptions policy statement job description could affect human resources approved date new positions must specific job within 2013 policy history would also affect annual performance appraisals job description must supervisor must work monitoring job descriptions current job descriptions approving job descriptions formal document describing employee without approval human resources department duties may affect policy title position change significantly human resources human resources job descriptions job descriptions job descriptions job descriptions job description job description job description job description significantly altered significantly change reviewed annually proper format physical requirements personnel division minor changes major changes hr office hr office enter text enter text enter text changes needed central file appropriate administrator significant change hr director college budget federal classification position needs job description may employee document department approved approved change change supervisor supervisor supervisor position position position position needs duties duties duties director college classification classification classification used training timeline therefore supervisors scope reviewing responsible responsible responsibilities responsibilities request reported reevaluate recruiting reasons purposes promotions procedures president president president prepared posted organization necessary nature meet maintaining maintained keywords input increase implementation hiring grade evaluated evaluated ensuring done development developed determine departments deans dean contacts consultation conjunction compensation click click click category authority assigned alter administering 8 1'"
            ]
          },
          "execution_count": 73,
          "metadata": {},
          "output_type": "execute_result"
        }
      ],
      "source": [
        "a = \" \".join(keywords)\n",
        "a"
      ]
    },
    {
      "cell_type": "code",
      "execution_count": null,
      "id": "p19_fyh5kuJC",
      "metadata": {
        "id": "p19_fyh5kuJC"
      },
      "outputs": [],
      "source": [
        "rake.extract_keywords_from_text(resume1)\n",
        "resume_keywords = rake.get_ranked_phrases()"
      ]
    },
    {
      "cell_type": "code",
      "execution_count": null,
      "id": "nutritional-stake",
      "metadata": {
        "colab": {
          "base_uri": "https://localhost:8080/",
          "height": 105
        },
        "id": "nutritional-stake",
        "outputId": "4b49f490-747f-4914-ffaa-61cdbf643e68"
      },
      "outputs": [
        {
          "data": {
            "application/vnd.google.colaboratory.intrinsic+json": {
              "type": "string"
            },
            "text/plain": [
              "'react rest api communication analytical skills presentation skills project management languages full professional proficiency certifications machine learning june 2024 – july 2024 january 2024 – april 2024 january 2024 – april 2024 91 8700122543 rishabh surana rspsurana full professional proficiency hindi machine learning html css javascript local train ticket system enabling online ticket purchases india leetcode profile driven india higher secondary education professional experience vasitum tech skills technological skills enhanced technical skills rishabh surana bachelor skills across ai https :// vasitum personalized recommendations based modern database systems estimates future expenses c ++) mysql simplifies car purchasing rest apis savings projects apnicar python data structures soft skills professional workflows experience working education st india b tech cse best car world projects impactful projects react react world solutions web development uttar pradesh user preferences urban commuters upcoming features software development shortest routes saylor academy revolutionary platform provides access nearby dealerships ms excel maven workforce lawrence convent intuitive app infosys springboard greater noida greater noida geeta colony efficient solution computer network challenges faced backend engineering algorithmic toolbox agile testing 12th grade 10th grade bennett university bennett university technologies used deliver real com e22cseu1029 india python javascript javascript javascript html html html css css css bennett ai ai technologies real cse com com com ’ work view understanding travelpass travelpass technology security scrimba provide proficient predicts passion os ml ml ml mastering live introduction introduction introduction innovation hands gmail finding english edu eager designed delhi delhi dbms coursera coursera coursera coursera contributed contribute computers comprehensive committed cgpa bytes budget bits apply algorithms aim 86 86 8 6 4 2026 2022 2021 2013'"
            ]
          },
          "execution_count": 74,
          "metadata": {},
          "output_type": "execute_result"
        }
      ],
      "source": [
        "b = \" \".join(resume_keywords)\n",
        "b"
      ]
    },
    {
      "cell_type": "code",
      "execution_count": null,
      "id": "concerned-salem",
      "metadata": {
        "colab": {
          "base_uri": "https://localhost:8080/"
        },
        "id": "concerned-salem",
        "outputId": "996bf28c-8940-46ed-b756-1ad685ee6bf3"
      },
      "outputs": [
        {
          "name": "stdout",
          "output_type": "stream",
          "text": [
            "['gccc', 'policy', 'add', 'template', 'related', 'form', 'full', 'time', 'positions', 'within', 'gccc', 'must', 'overall', 'job', 'description', 'program', 'full', 'time', 'positions', 'job', 'descriptions', 'policy', 'statement', 'job', 'description', 'could', 'affect', 'human', 'resources', 'approved', 'date', 'new', 'positions', 'must', 'specific', 'job', 'within', '2013', 'policy', 'history', 'would', 'also', 'affect', 'annual', 'performance', 'appraisals', 'job', 'description', 'must', 'supervisor', 'must', 'work', 'monitoring', 'job', 'descriptions', 'current', 'job', 'descriptions', 'approving', 'job', 'descriptions', 'formal', 'document', 'describing', 'employee', 'without', 'approval', 'human', 'resources', 'department', 'duties', 'may', 'affect', 'policy', 'title', 'position', 'change', 'significantly', 'human', 'resources', 'human', 'resources', 'job', 'descriptions', 'job', 'descriptions', 'job', 'descriptions', 'job', 'descriptions', 'job', 'description', 'job', 'description', 'job', 'description', 'job', 'description', 'significantly', 'altered', 'significantly', 'change', 'reviewed', 'annually', 'proper', 'format', 'physical', 'requirements', 'personnel', 'division', 'minor', 'changes', 'major', 'changes', 'hr', 'office', 'hr', 'office', 'enter', 'text', 'enter', 'text', 'enter', 'text', 'changes', 'needed', 'central', 'file', 'appropriate', 'administrator', 'significant', 'change', 'hr', 'director', 'college', 'budget', 'federal', 'classification', 'position', 'needs', 'job', 'description', 'may', 'employee', 'document', 'department', 'approved', 'approved', 'change', 'change', 'supervisor', 'supervisor', 'supervisor', 'position', 'position', 'position', 'position', 'needs', 'duties', 'duties', 'duties', 'director', 'college', 'classification', 'classification', 'classification', 'used', 'training', 'timeline', 'therefore', 'supervisors', 'scope', 'reviewing', 'responsible', 'responsible', 'responsibilities', 'responsibilities', 'request', 'reported', 'reevaluate', 'recruiting', 'reasons', 'purposes', 'promotions', 'procedures', 'president', 'president', 'president', 'prepared', 'posted', 'organization', 'necessary', 'nature', 'meet', 'maintaining', 'maintained', 'keywords', 'input', 'increase', 'implementation', 'hiring', 'grade', 'evaluated', 'evaluated', 'ensuring', 'done', 'development', 'developed', 'determine', 'departments', 'deans', 'dean', 'contacts', 'consultation', 'conjunction', 'compensation', 'click', 'click', 'click', 'category', 'authority', 'assigned', 'alter', 'administering', '8', '1']\n"
          ]
        }
      ],
      "source": [
        "c = []\n",
        "for i in a.split('\\n'):\n",
        "    for j in i.split(' '):\n",
        "        c.append(j)\n",
        "print(c)"
      ]
    },
    {
      "cell_type": "code",
      "execution_count": null,
      "id": "needed-jewel",
      "metadata": {
        "colab": {
          "base_uri": "https://localhost:8080/"
        },
        "id": "needed-jewel",
        "outputId": "6de3ae6d-ffb4-4266-d003-d9e6821a7c61"
      },
      "outputs": [
        {
          "name": "stdout",
          "output_type": "stream",
          "text": [
            "['react', 'rest', 'api', 'communication', 'analytical', 'skills', 'presentation', 'skills', 'project', 'management', 'languages', 'full', 'professional', 'proficiency', 'certifications', 'machine', 'learning', 'june', '2024', '–', 'july', '2024', 'january', '2024', '–', 'april', '2024', 'january', '2024', '–', 'april', '2024', '91', '8700122543', 'rishabh', 'surana', 'rspsurana', 'full', 'professional', 'proficiency', 'hindi', 'machine', 'learning', 'html', 'css', 'javascript', 'local', 'train', 'ticket', 'system', 'enabling', 'online', 'ticket', 'purchases', 'india', 'leetcode', 'profile', 'driven', 'india', 'higher', 'secondary', 'education', 'professional', 'experience', 'vasitum', 'tech', 'skills', 'technological', 'skills', 'enhanced', 'technical', 'skills', 'rishabh', 'surana', 'bachelor', 'skills', 'across', 'ai', 'https', '://', 'vasitum', 'personalized', 'recommendations', 'based', 'modern', 'database', 'systems', 'estimates', 'future', 'expenses', 'c', '++)', 'mysql', 'simplifies', 'car', 'purchasing', 'rest', 'apis', 'savings', 'projects', 'apnicar', 'python', 'data', 'structures', 'soft', 'skills', 'professional', 'workflows', 'experience', 'working', 'education', 'st', 'india', 'b', 'tech', 'cse', 'best', 'car', 'world', 'projects', 'impactful', 'projects', 'react', 'react', 'world', 'solutions', 'web', 'development', 'uttar', 'pradesh', 'user', 'preferences', 'urban', 'commuters', 'upcoming', 'features', 'software', 'development', 'shortest', 'routes', 'saylor', 'academy', 'revolutionary', 'platform', 'provides', 'access', 'nearby', 'dealerships', 'ms', 'excel', 'maven', 'workforce', 'lawrence', 'convent', 'intuitive', 'app', 'infosys', 'springboard', 'greater', 'noida', 'greater', 'noida', 'geeta', 'colony', 'efficient', 'solution', 'computer', 'network', 'challenges', 'faced', 'backend', 'engineering', 'algorithmic', 'toolbox', 'agile', 'testing', '12th', 'grade', '10th', 'grade', 'bennett', 'university', 'bennett', 'university', 'technologies', 'used', 'deliver', 'real', 'com', 'e22cseu1029', 'india', 'python', 'javascript', 'javascript', 'javascript', 'html', 'html', 'html', 'css', 'css', 'css', 'bennett', 'ai', 'ai', 'technologies', 'real', 'cse', 'com', 'com', 'com', '’', 'work', 'view', 'understanding', 'travelpass', 'travelpass', 'technology', 'security', 'scrimba', 'provide', 'proficient', 'predicts', 'passion', 'os', 'ml', 'ml', 'ml', 'mastering', 'live', 'introduction', 'introduction', 'introduction', 'innovation', 'hands', 'gmail', 'finding', 'english', 'edu', 'eager', 'designed', 'delhi', 'delhi', 'dbms', 'coursera', 'coursera', 'coursera', 'coursera', 'contributed', 'contribute', 'computers', 'comprehensive', 'committed', 'cgpa', 'bytes', 'budget', 'bits', 'apply', 'algorithms', 'aim', '86', '86', '8', '6', '4', '2026', '2022', '2021', '2013']\n"
          ]
        }
      ],
      "source": [
        "d = []\n",
        "for i in b.split('\\n'):\n",
        "    for j in i.split(' '):\n",
        "        d.append(j)\n",
        "print(d)"
      ]
    },
    {
      "cell_type": "markdown",
      "id": "specified-stanford",
      "metadata": {
        "id": "specified-stanford"
      },
      "source": [
        "#### Function to see whether resume covers all the important keywords mentioned in JD"
      ]
    },
    {
      "cell_type": "code",
      "execution_count": null,
      "id": "standing-appointment",
      "metadata": {
        "colab": {
          "base_uri": "https://localhost:8080/"
        },
        "id": "standing-appointment",
        "outputId": "4ec9b878-4fcf-4988-df7d-89f13cb493b7"
      },
      "outputs": [
        {
          "name": "stdout",
          "output_type": "stream",
          "text": [
            "Present words are:  ['full', 'full', '2013', 'work', 'budget', 'used', 'grade', 'development', '8']\n",
            "Absent words are:  ['gccc', 'policy', 'add', 'template', 'related', 'form', 'time', 'positions', 'within', 'gccc', 'must', 'overall', 'job', 'description', 'program', 'time', 'positions', 'job', 'descriptions', 'policy', 'statement', 'job', 'description', 'could', 'affect', 'human', 'resources', 'approved', 'date', 'new', 'positions', 'must', 'specific', 'job', 'within', 'policy', 'history', 'would', 'also', 'affect', 'annual', 'performance', 'appraisals', 'job', 'description', 'must', 'supervisor', 'must', 'monitoring', 'job', 'descriptions', 'current', 'job', 'descriptions', 'approving', 'job', 'descriptions', 'formal', 'document', 'describing', 'employee', 'without', 'approval', 'human', 'resources', 'department', 'duties', 'may', 'affect', 'policy', 'title', 'position', 'change', 'significantly', 'human', 'resources', 'human', 'resources', 'job', 'descriptions', 'job', 'descriptions', 'job', 'descriptions', 'job', 'descriptions', 'job', 'description', 'job', 'description', 'job', 'description', 'job', 'description', 'significantly', 'altered', 'significantly', 'change', 'reviewed', 'annually', 'proper', 'format', 'physical', 'requirements', 'personnel', 'division', 'minor', 'changes', 'major', 'changes', 'hr', 'office', 'hr', 'office', 'enter', 'text', 'enter', 'text', 'enter', 'text', 'changes', 'needed', 'central', 'file', 'appropriate', 'administrator', 'significant', 'change', 'hr', 'director', 'college', 'federal', 'classification', 'position', 'needs', 'job', 'description', 'may', 'employee', 'document', 'department', 'approved', 'approved', 'change', 'change', 'supervisor', 'supervisor', 'supervisor', 'position', 'position', 'position', 'position', 'needs', 'duties', 'duties', 'duties', 'director', 'college', 'classification', 'classification', 'classification', 'training', 'timeline', 'therefore', 'supervisors', 'scope', 'reviewing', 'responsible', 'responsible', 'responsibilities', 'responsibilities', 'request', 'reported', 'reevaluate', 'recruiting', 'reasons', 'purposes', 'promotions', 'procedures', 'president', 'president', 'president', 'prepared', 'posted', 'organization', 'necessary', 'nature', 'meet', 'maintaining', 'maintained', 'keywords', 'input', 'increase', 'implementation', 'hiring', 'evaluated', 'evaluated', 'ensuring', 'done', 'developed', 'determine', 'departments', 'deans', 'dean', 'contacts', 'consultation', 'conjunction', 'compensation', 'click', 'click', 'click', 'category', 'authority', 'assigned', 'alter', 'administering', '1']\n"
          ]
        }
      ],
      "source": [
        "present = []\n",
        "absent = []\n",
        "for i in c:\n",
        "    if i in d:\n",
        "        present.append(i)\n",
        "    else:\n",
        "        absent.append(i)\n",
        "print(\"Present words are: \", present)\n",
        "print(\"Absent words are: \", absent)"
      ]
    },
    {
      "cell_type": "markdown",
      "id": "extreme-caribbean",
      "metadata": {
        "id": "extreme-caribbean"
      },
      "source": [
        "### Part-3 Classification of Skills"
      ]
    },
    {
      "cell_type": "code",
      "execution_count": null,
      "id": "impossible-check",
      "metadata": {
        "id": "impossible-check"
      },
      "outputs": [],
      "source": [
        "from spacy.matcher import PhraseMatcher"
      ]
    },
    {
      "cell_type": "code",
      "execution_count": null,
      "id": "involved-youth",
      "metadata": {
        "id": "involved-youth"
      },
      "outputs": [],
      "source": [
        "pdfFileObj = open('Rishabh Resume .pdf','rb')"
      ]
    },
    {
      "cell_type": "code",
      "execution_count": null,
      "id": "jewish-burke",
      "metadata": {
        "id": "jewish-burke"
      },
      "outputs": [],
      "source": [
        "pdfReader = PyPDF2.PdfReader(pdfFileObj)"
      ]
    },
    {
      "cell_type": "code",
      "execution_count": null,
      "id": "funny-permit",
      "metadata": {
        "id": "funny-permit"
      },
      "outputs": [],
      "source": [
        "text=\"\"\n",
        "count=0"
      ]
    },
    {
      "cell_type": "code",
      "execution_count": null,
      "id": "brilliant-objective",
      "metadata": {
        "id": "brilliant-objective"
      },
      "outputs": [],
      "source": [
        "num_pages = 1"
      ]
    },
    {
      "cell_type": "code",
      "execution_count": null,
      "id": "committed-hungary",
      "metadata": {
        "id": "committed-hungary"
      },
      "outputs": [],
      "source": [
        "while count < num_pages:\n",
        "    pageObj = pdfReader.pages[count]  # Access page directly using 'pages' attribute\n",
        "    count += 1\n",
        "    text += pageObj.extract_text()\n"
      ]
    },
    {
      "cell_type": "code",
      "execution_count": null,
      "id": "scientific-pacific",
      "metadata": {
        "id": "scientific-pacific"
      },
      "outputs": [],
      "source": [
        "import re\n",
        "import string\n",
        "text = text.lower()\n",
        "text = re.sub(r'\\d+','',text)\n",
        "text = text.translate(str.maketrans('','',string.punctuation))"
      ]
    },
    {
      "cell_type": "code",
      "execution_count": null,
      "id": "aging-thinking",
      "metadata": {
        "id": "aging-thinking"
      },
      "outputs": [],
      "source": [
        "terms = {\n",
        "    'Data Engineering & Warehousing': ['build', 'maintain', 'data', 'pipelines', 'engineering', 'organize',\n",
        "                                      'large', 'integrity', 'testing', 'validation', 'Postgres DBs', 'Kinesis',\n",
        "                                      'APIs', 'Gathering', 'ETL', 'Modeling', 'data warehouse', 'integrate',\n",
        "                                      'SQL', 'Server', 'design', 'solution', 'ad-hoc', 'streamline', 'extraction',\n",
        "                                      'troubleshoot', 'architecture', 'endpoints', 'development', 'lake', 'architecture',\n",
        "                                      'databases', 'NoSQL', 'exploration'],\n",
        "    'Data Mining & Statistical Analysis': ['SAS', 'ANOVA', 'statistical', 'methodologies', 'regression', 'data mining',\n",
        "                                           'problem-solving', 'theories', 'test', 'hypotheses', 'anamoly-detection',\n",
        "                                           'SPSS', 'RStudio', 'quantitative', 'analyses', 'model', 'mathematics', 'statistic',\n",
        "                                           'techniques', 'Bayesian', 'research', 'sampling', 'findings', 'analysis', 'R',\n",
        "                                           'conduct', 'insights', 'statistical integrity', 'math', 'identify', 'analyze',\n",
        "                                           'trend', 'stake-holders', 'MATLAB', 'Inferential Statistics', 'Multivariate Analysis',\n",
        "                                           'Linear', 'Non-linear', 'mortality', 'risk factors', 'survey'],\n",
        "    'Cloud & Distributed Computing': ['multi-cloud', 'develop', 'cloud solutions', 'domain', 'architects', 'technical', 'cloud',\n",
        "                                      'architecture', 'engineering', 'TOGAF', 'Zachman', 'Policies', 'Governance', 'Strategies',\n",
        "                                      'AWS', 'Redshift', 'PostgresQL', 'Oracle', 'cloud based', 'OLTP', 'metadata', 'OLAP', 'GCP',\n",
        "                                      'Spark', 'APIs', 'Python', 'framework', 'understanding', 'data-driven', 'Azure', 'platform',\n",
        "                                      'design', 'domain', 'tool', 'trend', 'deployment', 'application', 'build', 'environment', 'DevOps',\n",
        "                                      'pipeline', 'manage', 'server', 'services'],\n",
        "    'ML & AI': ['structured', 'unstructured', 'kafka', 'spark', 'datapipeline', 'big data', 'technologies', 'hive', 'hadoop', 'PySpark',\n",
        "                'Python', 'SQL', 'MySQL', 'databases', 'tools', 'AWS', 'GCP', 'information retrieval', 'machine learning', 'features',\n",
        "                'engineering', 'data mining', 'data processing', 'large', 'NLP', 'text', 'analytical skills', 'deployment', 'Git', 'Linux',\n",
        "                'Windows', 'C', 'C++', 'Java', 'DevOps', 'distributed', 'software', 'development', 'requirements', 'experience', 'Tensor Flow',\n",
        "                'PyTorch', 'supervised', 'unsupervised', 'building', 'evaluation', 'ML libraries', 'frameworks', 'exploratory analyses',\n",
        "                'traditional', 'techniques', 'AI', 'algorithms', 'analyze', 'develop', 'evaluate', 'classification', 'library'],\n",
        "    'Data Visualization': ['analytics', 'BI Tools', 'chart', 'big data', 'business intelligence', 'power BI', 'BOBJ', 'visualization', 'data',\n",
        "                           'database', 'data mining', 'data science', 'charts', 'hadoop', 'graphs', 'MS Excel', 'pivot-tables', 'machine learning',\n",
        "                           'creative', 'nosql', 'nlp', 'predictive', 'insights', 'python', 'r', 'sql', 'tableau', 'text mining', 'findings', 'communication',\n",
        "                           'skills', 'statistical', 'data-driven', 'SPSS', 'Alteryx', 'business', 'identify', 'dashboard', 'Bash', 'statistical',\n",
        "                           'resolve', 'translate', 'summarize', 'analyst', 'ggplot2', 'reporting', 'business', 'result'],\n",
        "    'Natural Language Processing (NLP)': ['text', 'speech', 'machine learning', 'AI', 'linguistics', 'tokenization', 'stemming', 'stop words', 'vectorization',\n",
        "                                          'embedding', 'sentiment analysis', 'transformers', 'BERT', 'NLP pipelines', 'deep learning', 'syntax', 'parsing', 'corpus',\n",
        "                                          'language models', 'semantic', 'named entity recognition', 'part-of-speech', 'information extraction', 'chatbots', 'dialog systems',\n",
        "                                          'language generation', 'TensorFlow', 'spaCy', 'transformers', 'text classification', 'named entities', 'BPE'],\n",
        "    'Big Data': ['Hadoop', 'Spark', 'Hive', 'MapReduce', 'data lakes', 'NoSQL', 'data processing', 'scalability', 'real-time', 'batch processing',\n",
        "                 'flink', 'Kafka', 'cloud storage', 'AWS', 'GCP', 'Azure', 'distributed systems', 'data streaming', 'cloud computing', 'ETL', 'data wrangling',\n",
        "                 'big data analytics', 'data analysis', 'data pipelines', 'Redshift', 'Google BigQuery', 'Cassandra', 'MongoDB', 'Columnar data', 'databases',\n",
        "                 'cluster', 'data governance'],\n",
        "    'Cybersecurity & Privacy': ['encryption', 'firewalls', 'network security', 'vulnerability', 'threat detection', 'data breach', 'privacy', 'risk management',\n",
        "                                'intrusion detection', 'penetration testing', 'access control', 'authentication', 'SSL/TLS', 'GDPR', 'cyberattacks', 'data protection',\n",
        "                                'firewall configuration', 'network traffic', 'DDoS', 'incident response', 'network protocols', 'penetration tests', 'data masking',\n",
        "                                'security policies', 'compliance', 'intrusion prevention', 'SIEM', 'data integrity'],\n",
        "    'Business Intelligence & Analytics': ['dashboards', 'KPI', 'metrics', 'data visualization', 'business reporting', 'forecasting', 'trends', 'BI tools',\n",
        "                                          'performance', 'decision-making', 'insights', 'predictive analytics', 'data models', 'business analysis', 'data-driven',\n",
        "                                          'Power BI', 'Tableau', 'SQL', 'data mining', 'data management', 'business data', 'metrics', 'analytics strategy',\n",
        "                                          'data pipelines', 'cross-functional', 'BI reporting', 'data collection', 'visualizations', 'data integration'],\n",
        "    'Computer Vision & Image Processing': ['image recognition', 'image segmentation', 'opencv', 'deep learning', 'convolutional neural networks', 'CNN',\n",
        "                                          'object detection', 'pattern recognition', 'computer vision', 'image enhancement', 'machine learning', 'image classification',\n",
        "                                          'feature extraction', 'image transformation', 'augmented reality', 'video analytics', 'supervised learning', 'unsupervised learning',\n",
        "                                          'image filtering', '3D imaging', 'object tracking', 'image restoration', 'image processing pipelines', 'scikit-image'],\n",
        "    'Deep Learning': ['neural networks', 'CNN', 'RNN', 'TensorFlow', 'PyTorch', 'LSTM', 'autoencoders', 'activation functions', 'gradient descent', 'backpropagation',\n",
        "                      'machine learning', 'AI', 'algorithms', 'deep networks', 'unsupervised learning', 'supervised learning', 'deep reinforcement learning',\n",
        "                      'training data', 'GPU', 'overfitting', 'underfitting', 'hyperparameters', 'optimization', 'model tuning', 'transfer learning',\n",
        "                      'reinforcement learning', 'batch normalization', 'dropout', 'loss functions'],\n",
        "    'Data Governance & Quality': ['data stewardship', 'data policies', 'compliance', 'metadata management', 'data quality', 'master data management',\n",
        "                                  'data validation', 'data integrity', 'data audits', 'data cleansing', 'data ownership', 'access control', 'data privacy',\n",
        "                                  'standards', 'data documentation', 'data dictionaries', 'data retention', 'data lineage', 'data cataloging', 'data standards',\n",
        "                                  'data classification', 'data enrichment', 'data governance framework'],\n",
        "    'Robotic Process Automation (RPA)': ['automation', 'bots', 'process automation', 'RPA', 'workflow automation', 'scripted tasks', 'AI', 'process mining',\n",
        "                                        'Robotic process', 'task automation', 'Orchestrator', 'blueprism', 'UiPath', 'integration', 'automation tools', 'data processing',\n",
        "                                        'business automation', 'script', 'data handling', 'task execution', 'efficiency', 'system automation', 'software bots'],\n",
        "    'Blockchain & Cryptography': ['blockchain', 'cryptocurrency', 'decentralized', 'smart contracts', 'Bitcoin', 'Ethereum', 'hashing', 'cryptography',\n",
        "                                  'public key', 'private key', 'block', 'ledger', 'blockchain development', 'distributed ledger', 'consensus', 'NFTs',\n",
        "                                  'Ethereum', 'DeFi', 'tokenization', 'distributed systems', 'mining', 'transaction', 'ledger systems', 'blockchain protocol'],\n",
        "}\n"
      ]
    },
    {
      "cell_type": "code",
      "execution_count": null,
      "id": "white-church",
      "metadata": {
        "id": "white-church"
      },
      "outputs": [],
      "source": [
        "text = resume1\n",
        "\n",
        "# Initialize a dictionary to store area scores\n",
        "area_scores = {area: 0 for area in terms.keys()}\n",
        "\n",
        "# Count relevant terms in the text for each area\n",
        "for area, area_terms in terms.items():\n",
        "    for term in area_terms:\n",
        "        if term.lower() in text.lower():\n",
        "            area_scores[area] += 1"
      ]
    },
    {
      "cell_type": "code",
      "execution_count": null,
      "id": "honey-disposition",
      "metadata": {
        "colab": {
          "base_uri": "https://localhost:8080/",
          "height": 488
        },
        "id": "honey-disposition",
        "outputId": "8bfce4b3-9e09-4cfb-f14d-b23f47cb2ca0"
      },
      "outputs": [
        {
          "data": {
            "application/vnd.google.colaboratory.intrinsic+json": {
              "summary": "{\n  \"name\": \"summary\",\n  \"rows\": 14,\n  \"fields\": [\n    {\n      \"column\": \"Area\",\n      \"properties\": {\n        \"dtype\": \"string\",\n        \"num_unique_values\": 14,\n        \"samples\": [\n          \"Computer Vision & Image Processing\",\n          \"Data Governance & Quality\",\n          \"Data Engineering & Warehousing\"\n        ],\n        \"semantic_type\": \"\",\n        \"description\": \"\"\n      }\n    },\n    {\n      \"column\": \"Score\",\n      \"properties\": {\n        \"dtype\": \"number\",\n        \"std\": 5,\n        \"min\": 0,\n        \"max\": 17,\n        \"num_unique_values\": 8,\n        \"samples\": [\n          2,\n          0,\n          8\n        ],\n        \"semantic_type\": \"\",\n        \"description\": \"\"\n      }\n    }\n  ]\n}",
              "type": "dataframe",
              "variable_name": "summary"
            },
            "text/html": [
              "\n",
              "  <div id=\"df-c0222210-9e9f-4071-9680-500c86ea9b15\" class=\"colab-df-container\">\n",
              "    <div>\n",
              "<style scoped>\n",
              "    .dataframe tbody tr th:only-of-type {\n",
              "        vertical-align: middle;\n",
              "    }\n",
              "\n",
              "    .dataframe tbody tr th {\n",
              "        vertical-align: top;\n",
              "    }\n",
              "\n",
              "    .dataframe thead th {\n",
              "        text-align: right;\n",
              "    }\n",
              "</style>\n",
              "<table border=\"1\" class=\"dataframe\">\n",
              "  <thead>\n",
              "    <tr style=\"text-align: right;\">\n",
              "      <th></th>\n",
              "      <th>Area</th>\n",
              "      <th>Score</th>\n",
              "    </tr>\n",
              "  </thead>\n",
              "  <tbody>\n",
              "    <tr>\n",
              "      <th>0</th>\n",
              "      <td>Data Engineering &amp; Warehousing</td>\n",
              "      <td>8</td>\n",
              "    </tr>\n",
              "    <tr>\n",
              "      <th>1</th>\n",
              "      <td>Data Mining &amp; Statistical Analysis</td>\n",
              "      <td>2</td>\n",
              "    </tr>\n",
              "    <tr>\n",
              "      <th>2</th>\n",
              "      <td>Cloud &amp; Distributed Computing</td>\n",
              "      <td>10</td>\n",
              "    </tr>\n",
              "    <tr>\n",
              "      <th>3</th>\n",
              "      <td>ML &amp; AI</td>\n",
              "      <td>17</td>\n",
              "    </tr>\n",
              "    <tr>\n",
              "      <th>4</th>\n",
              "      <td>Data Visualization</td>\n",
              "      <td>9</td>\n",
              "    </tr>\n",
              "    <tr>\n",
              "      <th>5</th>\n",
              "      <td>Natural Language Processing (NLP)</td>\n",
              "      <td>2</td>\n",
              "    </tr>\n",
              "    <tr>\n",
              "      <th>6</th>\n",
              "      <td>Big Data</td>\n",
              "      <td>0</td>\n",
              "    </tr>\n",
              "    <tr>\n",
              "      <th>7</th>\n",
              "      <td>Cybersecurity &amp; Privacy</td>\n",
              "      <td>0</td>\n",
              "    </tr>\n",
              "    <tr>\n",
              "      <th>8</th>\n",
              "      <td>Business Intelligence &amp; Analytics</td>\n",
              "      <td>1</td>\n",
              "    </tr>\n",
              "    <tr>\n",
              "      <th>9</th>\n",
              "      <td>Computer Vision &amp; Image Processing</td>\n",
              "      <td>1</td>\n",
              "    </tr>\n",
              "    <tr>\n",
              "      <th>10</th>\n",
              "      <td>Deep Learning</td>\n",
              "      <td>3</td>\n",
              "    </tr>\n",
              "    <tr>\n",
              "      <th>11</th>\n",
              "      <td>Data Governance &amp; Quality</td>\n",
              "      <td>0</td>\n",
              "    </tr>\n",
              "    <tr>\n",
              "      <th>12</th>\n",
              "      <td>Robotic Process Automation (RPA)</td>\n",
              "      <td>2</td>\n",
              "    </tr>\n",
              "    <tr>\n",
              "      <th>13</th>\n",
              "      <td>Blockchain &amp; Cryptography</td>\n",
              "      <td>0</td>\n",
              "    </tr>\n",
              "  </tbody>\n",
              "</table>\n",
              "</div>\n",
              "    <div class=\"colab-df-buttons\">\n",
              "\n",
              "  <div class=\"colab-df-container\">\n",
              "    <button class=\"colab-df-convert\" onclick=\"convertToInteractive('df-c0222210-9e9f-4071-9680-500c86ea9b15')\"\n",
              "            title=\"Convert this dataframe to an interactive table.\"\n",
              "            style=\"display:none;\">\n",
              "\n",
              "  <svg xmlns=\"http://www.w3.org/2000/svg\" height=\"24px\" viewBox=\"0 -960 960 960\">\n",
              "    <path d=\"M120-120v-720h720v720H120Zm60-500h600v-160H180v160Zm220 220h160v-160H400v160Zm0 220h160v-160H400v160ZM180-400h160v-160H180v160Zm440 0h160v-160H620v160ZM180-180h160v-160H180v160Zm440 0h160v-160H620v160Z\"/>\n",
              "  </svg>\n",
              "    </button>\n",
              "\n",
              "  <style>\n",
              "    .colab-df-container {\n",
              "      display:flex;\n",
              "      gap: 12px;\n",
              "    }\n",
              "\n",
              "    .colab-df-convert {\n",
              "      background-color: #E8F0FE;\n",
              "      border: none;\n",
              "      border-radius: 50%;\n",
              "      cursor: pointer;\n",
              "      display: none;\n",
              "      fill: #1967D2;\n",
              "      height: 32px;\n",
              "      padding: 0 0 0 0;\n",
              "      width: 32px;\n",
              "    }\n",
              "\n",
              "    .colab-df-convert:hover {\n",
              "      background-color: #E2EBFA;\n",
              "      box-shadow: 0px 1px 2px rgba(60, 64, 67, 0.3), 0px 1px 3px 1px rgba(60, 64, 67, 0.15);\n",
              "      fill: #174EA6;\n",
              "    }\n",
              "\n",
              "    .colab-df-buttons div {\n",
              "      margin-bottom: 4px;\n",
              "    }\n",
              "\n",
              "    [theme=dark] .colab-df-convert {\n",
              "      background-color: #3B4455;\n",
              "      fill: #D2E3FC;\n",
              "    }\n",
              "\n",
              "    [theme=dark] .colab-df-convert:hover {\n",
              "      background-color: #434B5C;\n",
              "      box-shadow: 0px 1px 3px 1px rgba(0, 0, 0, 0.15);\n",
              "      filter: drop-shadow(0px 1px 2px rgba(0, 0, 0, 0.3));\n",
              "      fill: #FFFFFF;\n",
              "    }\n",
              "  </style>\n",
              "\n",
              "    <script>\n",
              "      const buttonEl =\n",
              "        document.querySelector('#df-c0222210-9e9f-4071-9680-500c86ea9b15 button.colab-df-convert');\n",
              "      buttonEl.style.display =\n",
              "        google.colab.kernel.accessAllowed ? 'block' : 'none';\n",
              "\n",
              "      async function convertToInteractive(key) {\n",
              "        const element = document.querySelector('#df-c0222210-9e9f-4071-9680-500c86ea9b15');\n",
              "        const dataTable =\n",
              "          await google.colab.kernel.invokeFunction('convertToInteractive',\n",
              "                                                    [key], {});\n",
              "        if (!dataTable) return;\n",
              "\n",
              "        const docLinkHtml = 'Like what you see? Visit the ' +\n",
              "          '<a target=\"_blank\" href=https://colab.research.google.com/notebooks/data_table.ipynb>data table notebook</a>'\n",
              "          + ' to learn more about interactive tables.';\n",
              "        element.innerHTML = '';\n",
              "        dataTable['output_type'] = 'display_data';\n",
              "        await google.colab.output.renderOutput(dataTable, element);\n",
              "        const docLink = document.createElement('div');\n",
              "        docLink.innerHTML = docLinkHtml;\n",
              "        element.appendChild(docLink);\n",
              "      }\n",
              "    </script>\n",
              "  </div>\n",
              "\n",
              "\n",
              "<div id=\"df-ccc72739-ecfc-4cc9-aabd-9f37185dbe30\">\n",
              "  <button class=\"colab-df-quickchart\" onclick=\"quickchart('df-ccc72739-ecfc-4cc9-aabd-9f37185dbe30')\"\n",
              "            title=\"Suggest charts\"\n",
              "            style=\"display:none;\">\n",
              "\n",
              "<svg xmlns=\"http://www.w3.org/2000/svg\" height=\"24px\"viewBox=\"0 0 24 24\"\n",
              "     width=\"24px\">\n",
              "    <g>\n",
              "        <path d=\"M19 3H5c-1.1 0-2 .9-2 2v14c0 1.1.9 2 2 2h14c1.1 0 2-.9 2-2V5c0-1.1-.9-2-2-2zM9 17H7v-7h2v7zm4 0h-2V7h2v10zm4 0h-2v-4h2v4z\"/>\n",
              "    </g>\n",
              "</svg>\n",
              "  </button>\n",
              "\n",
              "<style>\n",
              "  .colab-df-quickchart {\n",
              "      --bg-color: #E8F0FE;\n",
              "      --fill-color: #1967D2;\n",
              "      --hover-bg-color: #E2EBFA;\n",
              "      --hover-fill-color: #174EA6;\n",
              "      --disabled-fill-color: #AAA;\n",
              "      --disabled-bg-color: #DDD;\n",
              "  }\n",
              "\n",
              "  [theme=dark] .colab-df-quickchart {\n",
              "      --bg-color: #3B4455;\n",
              "      --fill-color: #D2E3FC;\n",
              "      --hover-bg-color: #434B5C;\n",
              "      --hover-fill-color: #FFFFFF;\n",
              "      --disabled-bg-color: #3B4455;\n",
              "      --disabled-fill-color: #666;\n",
              "  }\n",
              "\n",
              "  .colab-df-quickchart {\n",
              "    background-color: var(--bg-color);\n",
              "    border: none;\n",
              "    border-radius: 50%;\n",
              "    cursor: pointer;\n",
              "    display: none;\n",
              "    fill: var(--fill-color);\n",
              "    height: 32px;\n",
              "    padding: 0;\n",
              "    width: 32px;\n",
              "  }\n",
              "\n",
              "  .colab-df-quickchart:hover {\n",
              "    background-color: var(--hover-bg-color);\n",
              "    box-shadow: 0 1px 2px rgba(60, 64, 67, 0.3), 0 1px 3px 1px rgba(60, 64, 67, 0.15);\n",
              "    fill: var(--button-hover-fill-color);\n",
              "  }\n",
              "\n",
              "  .colab-df-quickchart-complete:disabled,\n",
              "  .colab-df-quickchart-complete:disabled:hover {\n",
              "    background-color: var(--disabled-bg-color);\n",
              "    fill: var(--disabled-fill-color);\n",
              "    box-shadow: none;\n",
              "  }\n",
              "\n",
              "  .colab-df-spinner {\n",
              "    border: 2px solid var(--fill-color);\n",
              "    border-color: transparent;\n",
              "    border-bottom-color: var(--fill-color);\n",
              "    animation:\n",
              "      spin 1s steps(1) infinite;\n",
              "  }\n",
              "\n",
              "  @keyframes spin {\n",
              "    0% {\n",
              "      border-color: transparent;\n",
              "      border-bottom-color: var(--fill-color);\n",
              "      border-left-color: var(--fill-color);\n",
              "    }\n",
              "    20% {\n",
              "      border-color: transparent;\n",
              "      border-left-color: var(--fill-color);\n",
              "      border-top-color: var(--fill-color);\n",
              "    }\n",
              "    30% {\n",
              "      border-color: transparent;\n",
              "      border-left-color: var(--fill-color);\n",
              "      border-top-color: var(--fill-color);\n",
              "      border-right-color: var(--fill-color);\n",
              "    }\n",
              "    40% {\n",
              "      border-color: transparent;\n",
              "      border-right-color: var(--fill-color);\n",
              "      border-top-color: var(--fill-color);\n",
              "    }\n",
              "    60% {\n",
              "      border-color: transparent;\n",
              "      border-right-color: var(--fill-color);\n",
              "    }\n",
              "    80% {\n",
              "      border-color: transparent;\n",
              "      border-right-color: var(--fill-color);\n",
              "      border-bottom-color: var(--fill-color);\n",
              "    }\n",
              "    90% {\n",
              "      border-color: transparent;\n",
              "      border-bottom-color: var(--fill-color);\n",
              "    }\n",
              "  }\n",
              "</style>\n",
              "\n",
              "  <script>\n",
              "    async function quickchart(key) {\n",
              "      const quickchartButtonEl =\n",
              "        document.querySelector('#' + key + ' button');\n",
              "      quickchartButtonEl.disabled = true;  // To prevent multiple clicks.\n",
              "      quickchartButtonEl.classList.add('colab-df-spinner');\n",
              "      try {\n",
              "        const charts = await google.colab.kernel.invokeFunction(\n",
              "            'suggestCharts', [key], {});\n",
              "      } catch (error) {\n",
              "        console.error('Error during call to suggestCharts:', error);\n",
              "      }\n",
              "      quickchartButtonEl.classList.remove('colab-df-spinner');\n",
              "      quickchartButtonEl.classList.add('colab-df-quickchart-complete');\n",
              "    }\n",
              "    (() => {\n",
              "      let quickchartButtonEl =\n",
              "        document.querySelector('#df-ccc72739-ecfc-4cc9-aabd-9f37185dbe30 button');\n",
              "      quickchartButtonEl.style.display =\n",
              "        google.colab.kernel.accessAllowed ? 'block' : 'none';\n",
              "    })();\n",
              "  </script>\n",
              "</div>\n",
              "\n",
              "  <div id=\"id_56aee92a-93af-49cb-8502-7b20136ae277\">\n",
              "    <style>\n",
              "      .colab-df-generate {\n",
              "        background-color: #E8F0FE;\n",
              "        border: none;\n",
              "        border-radius: 50%;\n",
              "        cursor: pointer;\n",
              "        display: none;\n",
              "        fill: #1967D2;\n",
              "        height: 32px;\n",
              "        padding: 0 0 0 0;\n",
              "        width: 32px;\n",
              "      }\n",
              "\n",
              "      .colab-df-generate:hover {\n",
              "        background-color: #E2EBFA;\n",
              "        box-shadow: 0px 1px 2px rgba(60, 64, 67, 0.3), 0px 1px 3px 1px rgba(60, 64, 67, 0.15);\n",
              "        fill: #174EA6;\n",
              "      }\n",
              "\n",
              "      [theme=dark] .colab-df-generate {\n",
              "        background-color: #3B4455;\n",
              "        fill: #D2E3FC;\n",
              "      }\n",
              "\n",
              "      [theme=dark] .colab-df-generate:hover {\n",
              "        background-color: #434B5C;\n",
              "        box-shadow: 0px 1px 3px 1px rgba(0, 0, 0, 0.15);\n",
              "        filter: drop-shadow(0px 1px 2px rgba(0, 0, 0, 0.3));\n",
              "        fill: #FFFFFF;\n",
              "      }\n",
              "    </style>\n",
              "    <button class=\"colab-df-generate\" onclick=\"generateWithVariable('summary')\"\n",
              "            title=\"Generate code using this dataframe.\"\n",
              "            style=\"display:none;\">\n",
              "\n",
              "  <svg xmlns=\"http://www.w3.org/2000/svg\" height=\"24px\"viewBox=\"0 0 24 24\"\n",
              "       width=\"24px\">\n",
              "    <path d=\"M7,19H8.4L18.45,9,17,7.55,7,17.6ZM5,21V16.75L18.45,3.32a2,2,0,0,1,2.83,0l1.4,1.43a1.91,1.91,0,0,1,.58,1.4,1.91,1.91,0,0,1-.58,1.4L9.25,21ZM18.45,9,17,7.55Zm-12,3A5.31,5.31,0,0,0,4.9,8.1,5.31,5.31,0,0,0,1,6.5,5.31,5.31,0,0,0,4.9,4.9,5.31,5.31,0,0,0,6.5,1,5.31,5.31,0,0,0,8.1,4.9,5.31,5.31,0,0,0,12,6.5,5.46,5.46,0,0,0,6.5,12Z\"/>\n",
              "  </svg>\n",
              "    </button>\n",
              "    <script>\n",
              "      (() => {\n",
              "      const buttonEl =\n",
              "        document.querySelector('#id_56aee92a-93af-49cb-8502-7b20136ae277 button.colab-df-generate');\n",
              "      buttonEl.style.display =\n",
              "        google.colab.kernel.accessAllowed ? 'block' : 'none';\n",
              "\n",
              "      buttonEl.onclick = () => {\n",
              "        google.colab.notebook.generateWithVariable('summary');\n",
              "      }\n",
              "      })();\n",
              "    </script>\n",
              "  </div>\n",
              "\n",
              "    </div>\n",
              "  </div>\n"
            ],
            "text/plain": [
              "                                  Area  Score\n",
              "0       Data Engineering & Warehousing      8\n",
              "1   Data Mining & Statistical Analysis      2\n",
              "2        Cloud & Distributed Computing     10\n",
              "3                              ML & AI     17\n",
              "4                   Data Visualization      9\n",
              "5    Natural Language Processing (NLP)      2\n",
              "6                             Big Data      0\n",
              "7              Cybersecurity & Privacy      0\n",
              "8    Business Intelligence & Analytics      1\n",
              "9   Computer Vision & Image Processing      1\n",
              "10                       Deep Learning      3\n",
              "11           Data Governance & Quality      0\n",
              "12    Robotic Process Automation (RPA)      2\n",
              "13           Blockchain & Cryptography      0"
            ]
          },
          "execution_count": 136,
          "metadata": {},
          "output_type": "execute_result"
        }
      ],
      "source": [
        "summary = pd.DataFrame(list(area_scores.items()), columns=['Area', 'Score'])\n",
        "summary"
      ]
    },
    {
      "cell_type": "code",
      "source": [
        "!pip install pytesseract"
      ],
      "metadata": {
        "colab": {
          "base_uri": "https://localhost:8080/"
        },
        "id": "6NwXXehnwVqg",
        "outputId": "aae65f3c-d6d8-4093-ff42-ddf7edd0cb04"
      },
      "id": "6NwXXehnwVqg",
      "execution_count": null,
      "outputs": [
        {
          "output_type": "stream",
          "name": "stdout",
          "text": [
            "Collecting pytesseract\n",
            "  Using cached pytesseract-0.3.13-py3-none-any.whl (14 kB)\n",
            "Requirement already satisfied: Pillow>=8.0.0 in /usr/local/lib/python3.10/dist-packages (from pytesseract) (11.0.0)\n",
            "Requirement already satisfied: packaging>=21.3 in /usr/local/lib/python3.10/dist-packages (from pytesseract) (24.2)\n",
            "Installing collected packages: pytesseract\n",
            "Successfully installed pytesseract-0.3.13\n"
          ]
        }
      ]
    },
    {
      "cell_type": "code",
      "source": [
        "!sudo apt-get install tesseract-ocr\n"
      ],
      "metadata": {
        "colab": {
          "base_uri": "https://localhost:8080/"
        },
        "id": "XeKppiZzW_nC",
        "outputId": "e0106c4b-bdb3-48d6-b333-7b06e7d63a79"
      },
      "id": "XeKppiZzW_nC",
      "execution_count": 1,
      "outputs": [
        {
          "output_type": "stream",
          "name": "stdout",
          "text": [
            "Reading package lists... Done\n",
            "Building dependency tree... Done\n",
            "Reading state information... Done\n",
            "The following additional packages will be installed:\n",
            "  tesseract-ocr-eng tesseract-ocr-osd\n",
            "The following NEW packages will be installed:\n",
            "  tesseract-ocr tesseract-ocr-eng tesseract-ocr-osd\n",
            "0 upgraded, 3 newly installed, 0 to remove and 49 not upgraded.\n",
            "Need to get 4,816 kB of archives.\n",
            "After this operation, 15.6 MB of additional disk space will be used.\n",
            "Get:1 http://archive.ubuntu.com/ubuntu jammy/universe amd64 tesseract-ocr-eng all 1:4.00~git30-7274cfa-1.1 [1,591 kB]\n",
            "Get:2 http://archive.ubuntu.com/ubuntu jammy/universe amd64 tesseract-ocr-osd all 1:4.00~git30-7274cfa-1.1 [2,990 kB]\n",
            "Get:3 http://archive.ubuntu.com/ubuntu jammy/universe amd64 tesseract-ocr amd64 4.1.1-2.1build1 [236 kB]\n",
            "Fetched 4,816 kB in 2s (2,610 kB/s)\n",
            "debconf: unable to initialize frontend: Dialog\n",
            "debconf: (No usable dialog-like program is installed, so the dialog based frontend cannot be used. at /usr/share/perl5/Debconf/FrontEnd/Dialog.pm line 78, <> line 3.)\n",
            "debconf: falling back to frontend: Readline\n",
            "debconf: unable to initialize frontend: Readline\n",
            "debconf: (This frontend requires a controlling tty.)\n",
            "debconf: falling back to frontend: Teletype\n",
            "dpkg-preconfigure: unable to re-open stdin: \n",
            "Selecting previously unselected package tesseract-ocr-eng.\n",
            "(Reading database ... 123630 files and directories currently installed.)\n",
            "Preparing to unpack .../tesseract-ocr-eng_1%3a4.00~git30-7274cfa-1.1_all.deb ...\n",
            "Unpacking tesseract-ocr-eng (1:4.00~git30-7274cfa-1.1) ...\n",
            "Selecting previously unselected package tesseract-ocr-osd.\n",
            "Preparing to unpack .../tesseract-ocr-osd_1%3a4.00~git30-7274cfa-1.1_all.deb ...\n",
            "Unpacking tesseract-ocr-osd (1:4.00~git30-7274cfa-1.1) ...\n",
            "Selecting previously unselected package tesseract-ocr.\n",
            "Preparing to unpack .../tesseract-ocr_4.1.1-2.1build1_amd64.deb ...\n",
            "Unpacking tesseract-ocr (4.1.1-2.1build1) ...\n",
            "Setting up tesseract-ocr-eng (1:4.00~git30-7274cfa-1.1) ...\n",
            "Setting up tesseract-ocr-osd (1:4.00~git30-7274cfa-1.1) ...\n",
            "Setting up tesseract-ocr (4.1.1-2.1build1) ...\n",
            "Processing triggers for man-db (2.10.2-1) ...\n"
          ]
        }
      ]
    },
    {
      "cell_type": "code",
      "source": [
        "!pip install pytesseract\n"
      ],
      "metadata": {
        "colab": {
          "base_uri": "https://localhost:8080/"
        },
        "id": "IQ43JvqlW_jn",
        "outputId": "b823bb96-effb-4c4f-e195-6b5708594f02"
      },
      "id": "IQ43JvqlW_jn",
      "execution_count": 2,
      "outputs": [
        {
          "output_type": "stream",
          "name": "stdout",
          "text": [
            "Collecting pytesseract\n",
            "  Downloading pytesseract-0.3.13-py3-none-any.whl.metadata (11 kB)\n",
            "Requirement already satisfied: packaging>=21.3 in /usr/local/lib/python3.10/dist-packages (from pytesseract) (24.2)\n",
            "Requirement already satisfied: Pillow>=8.0.0 in /usr/local/lib/python3.10/dist-packages (from pytesseract) (11.0.0)\n",
            "Downloading pytesseract-0.3.13-py3-none-any.whl (14 kB)\n",
            "Installing collected packages: pytesseract\n",
            "Successfully installed pytesseract-0.3.13\n"
          ]
        }
      ]
    },
    {
      "cell_type": "code",
      "source": [
        "!tesseract --version\n"
      ],
      "metadata": {
        "colab": {
          "base_uri": "https://localhost:8080/"
        },
        "id": "SnEeXLmsW_Xu",
        "outputId": "79922152-c3f6-45d7-da68-8e9b15050050"
      },
      "id": "SnEeXLmsW_Xu",
      "execution_count": 3,
      "outputs": [
        {
          "output_type": "stream",
          "name": "stdout",
          "text": [
            "tesseract 4.1.1\n",
            " leptonica-1.82.0\n",
            "  libgif 5.1.9 : libjpeg 8d (libjpeg-turbo 2.1.1) : libpng 1.6.37 : libtiff 4.3.0 : zlib 1.2.11 : libwebp 1.2.2 : libopenjp2 2.4.0\n",
            " Found AVX2\n",
            " Found AVX\n",
            " Found FMA\n",
            " Found SSE\n",
            " Found libarchive 3.6.0 zlib/1.2.11 liblzma/5.2.5 bz2lib/1.0.8 liblz4/1.9.3 libzstd/1.4.8\n"
          ]
        }
      ]
    },
    {
      "cell_type": "code",
      "execution_count": 11,
      "id": "c01b1cdc",
      "metadata": {
        "colab": {
          "base_uri": "https://localhost:8080/"
        },
        "id": "c01b1cdc",
        "outputId": "126559a9-a859-467a-a039-e299e89239da"
      },
      "outputs": [
        {
          "output_type": "stream",
          "name": "stdout",
          "text": [
            "Extracted text from scanned document:  \n",
            "\n",
            "@ ssrerise2s612\n",
            "\n",
            "DAKSH SAHU  crrsevs0nemetein\n",
            "\n",
            "Bachelor of Technology in CSE (Al & ML)\n",
            "BENNETT UNIVERSITY, GREATER NOIDA, UTTAR PRADESH, INDIA,\n",
            "\n",
            " \n",
            "\n",
            "fy heme cominvenah\n",
            "\n",
            "PROFILE\n",
            "Passionate about Al and Mi, 1am dedicate to creating Innovative solutions for real-world problems inthe\n",
            "tech industry. My sls encompass Python, Java, Object Oriented Programming Language, Advance Java\n",
            "“MySAL, Springboot and Microservics, Data Structures & Algorithms, HTML, CSS, JavaScript, and React. Lam\n",
            "‘committed to mastering these technaloges and Leveraging them to drive impactful outcomes\n",
            "\n",
            "WORK EXPERIENCE\n",
            "\n",
            "coDsoFT (Dune 2026 - auly 2026)\n",
            "‘Asan intern at Codsof in July 2026, | collaborated with a development team to design and plement\n",
            "\n",
            "Java projects. | gained hands-on experience in Java programming, focusing on problem-solving and\n",
            "\n",
            "‘writing clean, effcient code. contributed to all phases ofthe software development ufecycle, including\n",
            "planning, implementation, and testing, while enhancing my teamwork and communication sls through\n",
            "{active pertcpation in projet ascussions and code reviews.\n",
            "\n",
            "PROJECTS\n",
            "APNICAR (lonuary 2024 ~ April 2026)\n",
            "A xrowutlonary platform tht simplifies car purchasing with personalized recommendations based on\n",
            "your preferences and budget. It predicts future expenses and provides access to nearby dealerships\n",
            "‘nd real-time inventory through an intuitive ap.\n",
            "+ Technologies used: Python, MS-Excel, HTML, CSS, JS, IML\n",
            "\n",
            "METRO RAPID ROUTES (August 2023 - December 2023)\n",
            "+ Designed and implemented a Dieta Algorthm-based slution witha GUI to dent the shortest\n",
            "\n",
            "and fastest cy routes. The project included codebase development, dataset analyse, and\n",
            "\n",
            "Simulations, enhancing urban mobilty and transpertaion management.\n",
            "\n",
            " \n",
            "\n",
            " \n",
            "\n",
            " \n",
            "\n",
            " \n",
            "\n",
            " \n",
            "\n",
            " \n",
            "\n",
            " \n",
            "\n",
            "EDUCATION\n",
            "\n",
            "erent unenty, Gener sn un non | ran st sand noge pa wo\n",
            "SKILLS\n",
            "\n",
            "7 AML '* Project Management\n",
            "\n",
            " iaseroe 2 Engh Ful Profesional Profency\n",
            "CERTIFICATIONS\n",
            "\n",
            "“Machine Learning Courseral\n",
            "[Algorthme Toolbox (Coursera)\n",
            "\n",
            "Introduction to Modern Database Systems (Saylor Academy)\n",
            "\n",
            "Introduction to Computers and Operating Systems and Security (Coursera)\n",
            "‘he Bits and Bytes of Computer Networking (Course\n",
            "\n",
            "Introduction to Agile Testing (infosys Springboard)\n",
            "\f\n"
          ]
        }
      ],
      "source": [
        "\n",
        "from PIL import Image\n",
        "import pytesseract\n",
        "import os\n",
        "\n",
        "# Function to process images using OCR\n",
        "def process_with_ocr(file_path):\n",
        "    \"\"\"\n",
        "    Reads a scanned document (image or PDF) and extracts text using OCR.\n",
        "    Args:\n",
        "        file_path (str): Path to the scanned document.\n",
        "    Returns:\n",
        "        str: Extracted text.\n",
        "    \"\"\"\n",
        "    # For image files\n",
        "    if file_path.lower().endswith(('.png', '.jpg', '.jpeg', '.tiff', '.bmp')):\n",
        "        try:\n",
        "            img = Image.open(file_path)\n",
        "            extracted_text = pytesseract.image_to_string(img)\n",
        "            return extracted_text\n",
        "        except Exception as e:\n",
        "            print(f\"Error processing image file: {e}\")\n",
        "            return \"\"\n",
        "    else:\n",
        "        print(f\"Unsupported file type: {file_path}\")\n",
        "        return \"\"\n",
        "\n",
        "# Example usage\n",
        "scanned_file = \"/content/resume daksh png.png\"  # Replace with your file path\n",
        "text = process_with_ocr(scanned_file)\n",
        "print(\"Extracted text from scanned document:\", text)\n"
      ]
    },
    {
      "cell_type": "code",
      "execution_count": 7,
      "id": "38ec74a7",
      "metadata": {
        "id": "38ec74a7",
        "colab": {
          "base_uri": "https://localhost:8080/"
        },
        "outputId": "4a74d92c-e106-4a6e-fdb9-3191a2b5ddb1"
      },
      "outputs": [
        {
          "output_type": "stream",
          "name": "stdout",
          "text": [
            "Processed text:  \n",
            "\n",
            "@ ssrerise2s612\n",
            "\n",
            "DAKSH SAHU  crrsevs0nemetein\n",
            "\n",
            "Bachelor of Technology in CSE (Al & ML)\n",
            "BENNETT UNIVERSITY, GREATER NOIDA, UTTAR PRADESH, INDIA,\n",
            "\n",
            " \n",
            "\n",
            "fy heme cominvenah\n",
            "\n",
            "PROFILE\n",
            "Passionate about Al and Mi, 1am dedicate to creating Innovative solutions for real-world problems inthe\n",
            "tech industry. My sls encompass Python, Java, Object Oriented Programming Language, Advance Java\n",
            "“MySAL, Springboot and Microservics, Data Structures & Algorithms, HTML, CSS, JavaScript, and React. Lam\n",
            "‘committed to mastering these technaloges and Leveraging them to drive impactful outcomes\n",
            "\n",
            "WORK EXPERIENCE\n",
            "\n",
            "coDsoFT (Dune 2026 - auly 2026)\n",
            "‘Asan intern at Codsof in July 2026, | collaborated with a development team to design and plement\n",
            "\n",
            "Java projects. | gained hands-on experience in Java programming, focusing on problem-solving and\n",
            "\n",
            "‘writing clean, effcient code. contributed to all phases ofthe software development ufecycle, including\n",
            "planning, implementation, and testing, while enhancing my teamwork and communication sls through\n",
            "{active pertcpation in projet ascussions and code reviews.\n",
            "\n",
            "PROJECTS\n",
            "APNICAR (lonuary 2024 ~ April 2026)\n",
            "A xrowutlonary platform tht simplifies car purchasing with personalized recommendations based on\n",
            "your preferences and budget. It predicts future expenses and provides access to nearby dealerships\n",
            "‘nd real-time inventory through an intuitive ap.\n",
            "+ Technologies used: Python, MS-Excel, HTML, CSS, JS, IML\n",
            "\n",
            "METRO RAPID ROUTES (August 2023 - December 2023)\n",
            "+ Designed and implemented a Dieta Algorthm-based slution witha GUI to dent the shortest\n",
            "\n",
            "and fastest cy routes. The project included codebase development, dataset analyse, and\n",
            "\n",
            "Simulations, enhancing urban mobilty and transpertaion management.\n",
            "\n",
            " \n",
            "\n",
            " \n",
            "\n",
            " \n",
            "\n",
            " \n",
            "\n",
            " \n",
            "\n",
            " \n",
            "\n",
            " \n",
            "\n",
            "EDUCATION\n",
            "\n",
            "erent unenty, Gener sn un non | ran st sand noge pa wo\n",
            "SKILLS\n",
            "\n",
            "7 AML '* Project Management\n",
            "\n",
            " iaseroe 2 Engh Ful Profesional Profency\n",
            "CERTIFICATIONS\n",
            "\n",
            "“Machine Learning Courseral\n",
            "[Algorthme Toolbox (Coursera)\n",
            "\n",
            "Introduction to Modern Database Systems (Saylor Academy)\n",
            "\n",
            "Introduction to Computers and Operating Systems and Security (Coursera)\n",
            "‘he Bits and Bytes of Computer Networking (Course\n",
            "\n",
            "Introduction to Agile Testing (infosys Springboard)\n",
            "\f\n"
          ]
        }
      ],
      "source": [
        "\n",
        "# Example of integrating OCR with text input processing\n",
        "input_file = \"/content/resume daksh png.png\"  # Replace with the actual input path\n",
        "\n",
        "if input_file.lower().endswith(('.png', '.jpg', '.jpeg', '.tiff', '.bmp')):\n",
        "    # Process using OCR\n",
        "    processed_text = process_with_ocr(input_file)\n",
        "else:\n",
        "    # Process as plain text\n",
        "    with open(input_file, 'r') as f:\n",
        "        processed_text = f.read()\n",
        "\n",
        "print(\"Processed text:\", processed_text)\n"
      ]
    }
  ],
  "metadata": {
    "colab": {
      "gpuType": "T4",
      "provenance": []
    },
    "kernelspec": {
      "display_name": "Python 3",
      "name": "python3"
    },
    "language_info": {
      "codemirror_mode": {
        "name": "ipython",
        "version": 3
      },
      "file_extension": ".py",
      "mimetype": "text/x-python",
      "name": "python",
      "nbconvert_exporter": "python",
      "pygments_lexer": "ipython3",
      "version": "3.7.0"
    }
  },
  "nbformat": 4,
  "nbformat_minor": 5
}